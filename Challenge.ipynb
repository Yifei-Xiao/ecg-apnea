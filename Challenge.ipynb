{
 "cells": [
  {
   "cell_type": "code",
   "execution_count": 1,
   "metadata": {},
   "outputs": [],
   "source": [
    "import matplotlib.pyplot as plt\n",
    "%matplotlib inline\n",
    "import numpy as np\n",
    "import os\n",
    "import shutil\n",
    "import scipy\n",
    "from scipy import signal\n",
    "\n",
    "import wfdb\n",
    "from wfdb import processing\n",
    "import pandas as pd\n",
    "import sys\n",
    "\n",
    "import random\n",
    "\n",
    "import seaborn as sns\n",
    "\n",
    "from hrv.filters import quotient, moving_median\n",
    "from scipy import interpolate\n",
    "from tqdm import tqdm"
   ]
  },
  {
   "cell_type": "code",
   "execution_count": 2,
   "metadata": {},
   "outputs": [],
   "source": [
    "def get_qrs_amp(ecg, qrs):\n",
    "    interval = int(FS * 0.250)\n",
    "    qrs_amp = []\n",
    "    for index in range(len(qrs)):\n",
    "        curr_qrs = qrs[index]\n",
    "        amp = np.max(ecg[curr_qrs-interval:curr_qrs+interval])\n",
    "        qrs_amp.append(amp)\n",
    "\n",
    "    return qrs_amp\n",
    "\n",
    "def create_time_info(rri):\n",
    "    rri_time = np.cumsum(rri) / 1000.0  # make it seconds\n",
    "    return rri_time - rri_time[0]   # force it to start at zero\n",
    "\n",
    "def create_interp_time(rri, fs):\n",
    "    time_rri = create_time_info(rri)\n",
    "    return np.arange(0, time_rri[-1], 1 / float(fs))\n",
    "\n",
    "def interp_cubic_spline(rri, fs):\n",
    "    time_rri = create_time_info(rri)\n",
    "    time_rri_interp = create_interp_time(rri, fs)\n",
    "    tck = interpolate.splrep(time_rri, rri, s=0)\n",
    "    rri_interp = interpolate.splev(time_rri_interp, tck, der=0)\n",
    "    return time_rri_interp, rri_interp"
   ]
  },
  {
   "cell_type": "code",
   "execution_count": 3,
   "metadata": {
    "scrolled": true
   },
   "outputs": [
    {
     "name": "stderr",
     "output_type": "stream",
     "text": [
      "\r",
      "  0%|          | 0/488 [00:00<?, ?it/s]"
     ]
    },
    {
     "name": "stdout",
     "output_type": "stream",
     "text": [
      "a01\n"
     ]
    },
    {
     "name": "stderr",
     "output_type": "stream",
     "text": [
      "100%|██████████| 488/488 [03:18<00:00,  2.46it/s]\n",
      "  0%|          | 0/527 [00:00<?, ?it/s]"
     ]
    },
    {
     "name": "stdout",
     "output_type": "stream",
     "text": [
      "a02\n"
     ]
    },
    {
     "name": "stderr",
     "output_type": "stream",
     "text": [
      "100%|██████████| 527/527 [04:51<00:00,  1.81it/s]\n",
      "  0%|          | 0/518 [00:00<?, ?it/s]"
     ]
    },
    {
     "name": "stdout",
     "output_type": "stream",
     "text": [
      "a03\n"
     ]
    },
    {
     "name": "stderr",
     "output_type": "stream",
     "text": [
      "100%|██████████| 518/518 [03:48<00:00,  2.27it/s]\n",
      "  0%|          | 0/491 [00:00<?, ?it/s]"
     ]
    },
    {
     "name": "stdout",
     "output_type": "stream",
     "text": [
      "a04\n"
     ]
    },
    {
     "name": "stderr",
     "output_type": "stream",
     "text": [
      "100%|██████████| 491/491 [03:32<00:00,  2.31it/s]\n",
      "  0%|          | 0/453 [00:00<?, ?it/s]"
     ]
    },
    {
     "name": "stdout",
     "output_type": "stream",
     "text": [
      "a05\n"
     ]
    },
    {
     "name": "stderr",
     "output_type": "stream",
     "text": [
      "100%|██████████| 453/453 [03:01<00:00,  2.50it/s]\n",
      "  0%|          | 0/509 [00:00<?, ?it/s]"
     ]
    },
    {
     "name": "stdout",
     "output_type": "stream",
     "text": [
      "a06\n"
     ]
    },
    {
     "name": "stderr",
     "output_type": "stream",
     "text": [
      "100%|██████████| 509/509 [03:19<00:00,  2.55it/s]\n",
      "  0%|          | 0/510 [00:00<?, ?it/s]"
     ]
    },
    {
     "name": "stdout",
     "output_type": "stream",
     "text": [
      "a07\n"
     ]
    },
    {
     "name": "stderr",
     "output_type": "stream",
     "text": [
      "100%|██████████| 510/510 [04:19<00:00,  1.97it/s]\n",
      "  0%|          | 0/500 [00:00<?, ?it/s]"
     ]
    },
    {
     "name": "stdout",
     "output_type": "stream",
     "text": [
      "a08\n"
     ]
    },
    {
     "name": "stderr",
     "output_type": "stream",
     "text": [
      "100%|██████████| 500/500 [04:07<00:00,  2.02it/s]\n",
      "  0%|          | 0/494 [00:00<?, ?it/s]"
     ]
    },
    {
     "name": "stdout",
     "output_type": "stream",
     "text": [
      "a09\n"
     ]
    },
    {
     "name": "stderr",
     "output_type": "stream",
     "text": [
      "100%|██████████| 494/494 [03:03<00:00,  2.69it/s]\n",
      "  0%|          | 0/516 [00:00<?, ?it/s]"
     ]
    },
    {
     "name": "stdout",
     "output_type": "stream",
     "text": [
      "a10\n"
     ]
    },
    {
     "name": "stderr",
     "output_type": "stream",
     "text": [
      "100%|██████████| 516/516 [05:48<00:00,  1.48it/s]\n",
      "  0%|          | 0/465 [00:00<?, ?it/s]"
     ]
    },
    {
     "name": "stdout",
     "output_type": "stream",
     "text": [
      "a11\n"
     ]
    },
    {
     "name": "stderr",
     "output_type": "stream",
     "text": [
      "100%|██████████| 465/465 [03:38<00:00,  2.13it/s]\n",
      "  0%|          | 0/576 [00:00<?, ?it/s]"
     ]
    },
    {
     "name": "stdout",
     "output_type": "stream",
     "text": [
      "a12\n"
     ]
    },
    {
     "name": "stderr",
     "output_type": "stream",
     "text": [
      "100%|██████████| 576/576 [05:24<00:00,  1.78it/s]\n",
      "  0%|          | 0/494 [00:00<?, ?it/s]"
     ]
    },
    {
     "name": "stdout",
     "output_type": "stream",
     "text": [
      "a13\n"
     ]
    },
    {
     "name": "stderr",
     "output_type": "stream",
     "text": [
      "100%|██████████| 494/494 [04:46<00:00,  1.73it/s]\n",
      "  0%|          | 0/508 [00:00<?, ?it/s]"
     ]
    },
    {
     "name": "stdout",
     "output_type": "stream",
     "text": [
      "a14\n"
     ]
    },
    {
     "name": "stderr",
     "output_type": "stream",
     "text": [
      "100%|██████████| 508/508 [03:16<00:00,  2.58it/s]\n",
      "  0%|          | 0/509 [00:00<?, ?it/s]"
     ]
    },
    {
     "name": "stdout",
     "output_type": "stream",
     "text": [
      "a15\n"
     ]
    },
    {
     "name": "stderr",
     "output_type": "stream",
     "text": [
      "100%|██████████| 509/509 [04:32<00:00,  1.87it/s]\n",
      "  0%|          | 0/481 [00:00<?, ?it/s]"
     ]
    },
    {
     "name": "stdout",
     "output_type": "stream",
     "text": [
      "a16\n"
     ]
    },
    {
     "name": "stderr",
     "output_type": "stream",
     "text": [
      "100%|██████████| 481/481 [05:04<00:00,  1.58it/s]\n",
      "  0%|          | 0/484 [00:00<?, ?it/s]"
     ]
    },
    {
     "name": "stdout",
     "output_type": "stream",
     "text": [
      "a17\n"
     ]
    },
    {
     "name": "stderr",
     "output_type": "stream",
     "text": [
      "100%|██████████| 484/484 [04:01<00:00,  2.00it/s]\n",
      "  0%|          | 0/488 [00:00<?, ?it/s]"
     ]
    },
    {
     "name": "stdout",
     "output_type": "stream",
     "text": [
      "a18\n"
     ]
    },
    {
     "name": "stderr",
     "output_type": "stream",
     "text": [
      "100%|██████████| 488/488 [03:45<00:00,  2.16it/s]\n",
      "  0%|          | 0/486 [00:00<?, ?it/s]"
     ]
    },
    {
     "name": "stdout",
     "output_type": "stream",
     "text": [
      "b01\n"
     ]
    },
    {
     "name": "stderr",
     "output_type": "stream",
     "text": [
      "100%|██████████| 486/486 [04:04<00:00,  1.99it/s]\n",
      "  0%|          | 0/516 [00:00<?, ?it/s]"
     ]
    },
    {
     "name": "stdout",
     "output_type": "stream",
     "text": [
      "b02\n"
     ]
    },
    {
     "name": "stderr",
     "output_type": "stream",
     "text": [
      "100%|██████████| 516/516 [04:24<00:00,  1.95it/s]\n",
      "  0%|          | 0/440 [00:00<?, ?it/s]"
     ]
    },
    {
     "name": "stdout",
     "output_type": "stream",
     "text": [
      "b03\n"
     ]
    },
    {
     "name": "stderr",
     "output_type": "stream",
     "text": [
      "100%|██████████| 440/440 [03:34<00:00,  2.05it/s]\n",
      "  0%|          | 0/483 [00:00<?, ?it/s]"
     ]
    },
    {
     "name": "stdout",
     "output_type": "stream",
     "text": [
      "c01\n"
     ]
    },
    {
     "name": "stderr",
     "output_type": "stream",
     "text": [
      "100%|██████████| 483/483 [03:01<00:00,  2.65it/s]\n",
      "  0%|          | 0/501 [00:00<?, ?it/s]"
     ]
    },
    {
     "name": "stdout",
     "output_type": "stream",
     "text": [
      "c02\n"
     ]
    },
    {
     "name": "stderr",
     "output_type": "stream",
     "text": [
      "100%|██████████| 501/501 [04:07<00:00,  2.03it/s]\n",
      "  0%|          | 0/453 [00:00<?, ?it/s]"
     ]
    },
    {
     "name": "stdout",
     "output_type": "stream",
     "text": [
      "c03\n"
     ]
    },
    {
     "name": "stderr",
     "output_type": "stream",
     "text": [
      "100%|██████████| 453/453 [02:54<00:00,  2.60it/s]\n",
      "  0%|          | 0/481 [00:00<?, ?it/s]"
     ]
    },
    {
     "name": "stdout",
     "output_type": "stream",
     "text": [
      "c04\n"
     ]
    },
    {
     "name": "stderr",
     "output_type": "stream",
     "text": [
      "100%|██████████| 481/481 [04:37<00:00,  1.73it/s]\n",
      "  0%|          | 0/465 [00:00<?, ?it/s]"
     ]
    },
    {
     "name": "stdout",
     "output_type": "stream",
     "text": [
      "c05\n"
     ]
    },
    {
     "name": "stderr",
     "output_type": "stream",
     "text": [
      "100%|██████████| 465/465 [03:28<00:00,  2.23it/s]\n",
      "  0%|          | 0/467 [00:00<?, ?it/s]"
     ]
    },
    {
     "name": "stdout",
     "output_type": "stream",
     "text": [
      "c06\n"
     ]
    },
    {
     "name": "stderr",
     "output_type": "stream",
     "text": [
      "100%|██████████| 467/467 [04:25<00:00,  1.76it/s]\n",
      "  0%|          | 0/428 [00:00<?, ?it/s]"
     ]
    },
    {
     "name": "stdout",
     "output_type": "stream",
     "text": [
      "c07\n"
     ]
    },
    {
     "name": "stderr",
     "output_type": "stream",
     "text": [
      "100%|██████████| 428/428 [03:25<00:00,  2.08it/s]\n",
      "  0%|          | 0/512 [00:00<?, ?it/s]"
     ]
    },
    {
     "name": "stdout",
     "output_type": "stream",
     "text": [
      "c08\n"
     ]
    },
    {
     "name": "stderr",
     "output_type": "stream",
     "text": [
      "100%|██████████| 512/512 [04:10<00:00,  2.04it/s]\n"
     ]
    }
   ],
   "source": [
    "# train data\n",
    "\n",
    "FS = 100\n",
    "index = 10\n",
    "MARGIN = 10\n",
    "FS_INTP = 4\n",
    "MAX_HR = 300.0\n",
    "MIN_HR = 20.0\n",
    "MIN_RRI = 1.0 / (MAX_HR / 60.0) * 1000\n",
    "MAX_RRI = 1.0 / (MIN_HR / 60.0) * 1000\n",
    "\n",
    "train_features = []\n",
    "train_labels = []\n",
    "\n",
    "data_path = os.getcwd()+'/data/'\n",
    "name_lst = ['a', 'b', 'c']\n",
    "for prefix in name_lst:\n",
    "    if prefix == 'a':\n",
    "        range_ = 19\n",
    "    elif prefix == 'b':\n",
    "        range_ = 4\n",
    "    elif prefix == 'c':\n",
    "        range_ = 9\n",
    "    \n",
    "    for i in range(1, range_):\n",
    "        if i < 10:\n",
    "            name = prefix + '0' + str(i)\n",
    "        else:\n",
    "            name = prefix + str(i)\n",
    "        \n",
    "        print(name)\n",
    "        win_num = len(wfdb.rdann(data_path+name, 'apn').symbol)\n",
    "        signals, fields = wfdb.rdsamp(data_path+name)\n",
    "        \n",
    "        for index in tqdm(range(1, win_num)):\n",
    "            samp_from = index * 60 * FS # 60 seconds\n",
    "            samp_to = samp_from + 60 * FS  # 60 seconds\n",
    "\n",
    "\n",
    "            qrs_ann = wfdb.rdann(data_path+name, 'qrs', sampfrom=samp_from - (MARGIN*100), sampto=samp_to + (MARGIN*100)).sample\n",
    "            apn_ann = wfdb.rdann(data_path+name, 'apn', sampfrom=samp_from, sampto=samp_to - 1).symbol\n",
    "            qrs_amp = get_qrs_amp(signals, qrs_ann)\n",
    "            rpeaks = np.diff(qrs_ann)\n",
    "            rpeaks_ms = rpeaks.astype('float') / FS * 1000.0\n",
    "\n",
    "            try:\n",
    "                rri_filt = moving_median(rpeaks_ms)\n",
    "\n",
    "                if len(rri_filt) > 5 and (np.min(rri_filt) >= MIN_RRI and np.max(rri_filt) <= MAX_RRI):\n",
    "                    time_intp, rri_intp = interp_cubic_spline(rri_filt, FS_INTP)\n",
    "                    rri_intp = rri_intp[(time_intp >= MARGIN) & (time_intp < (60+MARGIN))]\n",
    "\n",
    "                    # qrs_time_intp, qrs_intp = interp_cubic_spline_qrs(qrs_ann, qrs_amp, FS_INTP)\n",
    "\n",
    "                    # calculate features: mean, rmssd, sdsd, pNN50\n",
    "                    mean = np.mean(rpeaks_ms) # mean of rr interval\n",
    "\n",
    "                    NN50 = np.diff(rpeaks_ms) # NN50: the number of interval differences of successive NN intervals greater than 50 ms\n",
    "                    pNN50 = sum(NN50 > 50) / len(rpeaks_ms) #pNN50: NN50/number of rr interval\n",
    "\n",
    "                    rmssd_result = 0\n",
    "                    sdsd_result = 0\n",
    "                    count = 0\n",
    "                    sd = np.std(rpeaks_ms)\n",
    "                    for j in range(len(rpeaks_ms)-1):\n",
    "                        sdsd_result += ((rpeaks_ms[j] - rpeaks_ms[j+1]) - mean) ** 2\n",
    "                        rmssd_result += (rpeaks_ms[j]-rpeaks_ms[j+1]) ** 2\n",
    "                        count += 1\n",
    "                    rmssd = np.sqrt(rmssd_result/count)\n",
    "                    sdsd = np.sqrt(sdsd_result/count)\n",
    "\n",
    "                    if len(rri_intp) == FS_INTP * 60:\n",
    "                        rri_intp = rri_intp - np.mean(rri_intp)\n",
    "\n",
    "                        if apn_ann[0] == 'N':\n",
    "                            label = 0.0\n",
    "                        elif apn_ann[0] == 'A':\n",
    "                            label = 1.0\n",
    "                        else:\n",
    "                            label = 2.0\n",
    "\n",
    "                        train_features.append([rri_intp, mean, sd, sdsd, rmssd, pNN50])\n",
    "                        train_labels.append(label)\n",
    "\n",
    "            except:\n",
    "                pass\n",
    "np.save('train_features.npy', train_features)\n",
    "np.save('train_labels.npy', train_labels)"
   ]
  },
  {
   "cell_type": "code",
   "execution_count": 4,
   "metadata": {},
   "outputs": [
    {
     "name": "stdout",
     "output_type": "stream",
     "text": [
      "a19\n"
     ]
    },
    {
     "name": "stderr",
     "output_type": "stream",
     "text": [
      "100%|██████████| 501/501 [05:33<00:00,  1.50it/s]\n"
     ]
    },
    {
     "name": "stdout",
     "output_type": "stream",
     "text": [
      "a20\n"
     ]
    },
    {
     "name": "stderr",
     "output_type": "stream",
     "text": [
      "100%|██████████| 509/509 [05:08<00:00,  1.65it/s]\n",
      "  0%|          | 0/428 [00:00<?, ?it/s]"
     ]
    },
    {
     "name": "stdout",
     "output_type": "stream",
     "text": [
      "b04\n"
     ]
    },
    {
     "name": "stderr",
     "output_type": "stream",
     "text": [
      "100%|██████████| 428/428 [04:13<00:00,  1.69it/s]\n",
      "  0%|          | 0/432 [00:00<?, ?it/s]"
     ]
    },
    {
     "name": "stdout",
     "output_type": "stream",
     "text": [
      "b05\n"
     ]
    },
    {
     "name": "stderr",
     "output_type": "stream",
     "text": [
      "100%|██████████| 432/432 [03:33<00:00,  2.03it/s]\n",
      "  0%|          | 0/467 [00:00<?, ?it/s]"
     ]
    },
    {
     "name": "stdout",
     "output_type": "stream",
     "text": [
      "c09\n"
     ]
    },
    {
     "name": "stderr",
     "output_type": "stream",
     "text": [
      "100%|██████████| 467/467 [03:54<00:00,  1.99it/s]\n",
      "  0%|          | 0/430 [00:00<?, ?it/s]"
     ]
    },
    {
     "name": "stdout",
     "output_type": "stream",
     "text": [
      "c10\n"
     ]
    },
    {
     "name": "stderr",
     "output_type": "stream",
     "text": [
      "100%|██████████| 430/430 [03:12<00:00,  2.23it/s]\n"
     ]
    }
   ],
   "source": [
    "# test data\n",
    "\n",
    "FS = 100\n",
    "index = 10\n",
    "MARGIN = 10\n",
    "FS_INTP = 4\n",
    "MAX_HR = 300.0\n",
    "MIN_HR = 20.0\n",
    "MIN_RRI = 1.0 / (MAX_HR / 60.0) * 1000\n",
    "MAX_RRI = 1.0 / (MIN_HR / 60.0) * 1000\n",
    "\n",
    "test_features = []\n",
    "test_labels = []\n",
    "\n",
    "data_path = os.getcwd()+'/data/'\n",
    "name_lst = ['a19', 'a20', 'b04', 'b05', 'c09', 'c10']\n",
    "for name in name_lst:        \n",
    "    print(name)\n",
    "    win_num = len(wfdb.rdann(data_path+name, 'apn').symbol)\n",
    "    signals, fields = wfdb.rdsamp(data_path+name)\n",
    "\n",
    "    for index in tqdm(range(1, win_num)):\n",
    "        samp_from = index * 60 * FS # 60 seconds\n",
    "        samp_to = samp_from + 60 * FS  # 60 seconds\n",
    "\n",
    "\n",
    "        qrs_ann = wfdb.rdann(data_path+name, 'qrs', sampfrom=samp_from - (MARGIN*100), sampto=samp_to + (MARGIN*100)).sample\n",
    "        apn_ann = wfdb.rdann(data_path+name, 'apn', sampfrom=samp_from, sampto=samp_to - 1).symbol\n",
    "        qrs_amp = get_qrs_amp(signals, qrs_ann)\n",
    "        rpeaks = np.diff(qrs_ann)\n",
    "        rpeaks_ms = rpeaks.astype('float') / FS * 1000.0\n",
    "\n",
    "        try:\n",
    "            rri_filt = moving_median(rpeaks_ms)\n",
    "\n",
    "            if len(rri_filt) > 5 and (np.min(rri_filt) >= MIN_RRI and np.max(rri_filt) <= MAX_RRI):\n",
    "                time_intp, rri_intp = interp_cubic_spline(rri_filt, FS_INTP)\n",
    "                rri_intp = rri_intp[(time_intp >= MARGIN) & (time_intp < (60+MARGIN))]\n",
    "\n",
    "                # qrs_time_intp, qrs_intp = interp_cubic_spline_qrs(qrs_ann, qrs_amp, FS_INTP)\n",
    "\n",
    "                # calculate features: mean, rmssd, sdsd, pNN50\n",
    "                mean = np.mean(rpeaks_ms) # mean of rr interval\n",
    "\n",
    "                NN50 = np.diff(rpeaks_ms) # NN50: the number of interval differences of successive NN intervals greater than 50 ms\n",
    "                pNN50 = sum(NN50 > 50) / len(rpeaks_ms) #pNN50: NN50/number of rr interval\n",
    "\n",
    "                rmssd_result = 0\n",
    "                sdsd_result = 0\n",
    "                count = 0\n",
    "                sd = np.std(rpeaks_ms)\n",
    "                for j in range(len(rpeaks_ms)-1):\n",
    "                    sdsd_result += ((rpeaks_ms[j] - rpeaks_ms[j+1]) - mean) ** 2\n",
    "                    rmssd_result += (rpeaks_ms[j]-rpeaks_ms[j+1]) ** 2\n",
    "                    count += 1\n",
    "                rmssd = np.sqrt(rmssd_result/count)\n",
    "                sdsd = np.sqrt(sdsd_result/count)\n",
    "\n",
    "                if len(rri_intp) == FS_INTP * 60:\n",
    "                    rri_intp = rri_intp - np.mean(rri_intp)\n",
    "\n",
    "                    if apn_ann[0] == 'N':\n",
    "                        label = 0.0\n",
    "                    elif apn_ann[0] == 'A':\n",
    "                        label = 1.0\n",
    "                    else:\n",
    "                        label = 2.0\n",
    "\n",
    "                    test_features.append([rri_intp, mean, sd, sdsd, rmssd, pNN50])\n",
    "                    test_labels.append(label)\n",
    "\n",
    "        except:\n",
    "            pass\n",
    "np.save('test_features.npy', test_features)\n",
    "np.save('test_labels.npy', test_labels)"
   ]
  },
  {
   "cell_type": "code",
   "execution_count": 6,
   "metadata": {},
   "outputs": [
    {
     "data": {
      "text/plain": [
       "13757"
      ]
     },
     "execution_count": 6,
     "metadata": {},
     "output_type": "execute_result"
    }
   ],
   "source": [
    "len(train_features)"
   ]
  },
  {
   "cell_type": "code",
   "execution_count": 7,
   "metadata": {},
   "outputs": [
    {
     "data": {
      "text/plain": [
       "13757"
      ]
     },
     "execution_count": 7,
     "metadata": {},
     "output_type": "execute_result"
    }
   ],
   "source": [
    "len(train_labels)"
   ]
  },
  {
   "cell_type": "code",
   "execution_count": 38,
   "metadata": {},
   "outputs": [],
   "source": [
    "normal_rmssd = []\n",
    "apnea_rmssd = []\n",
    "normal_pNN50 = []\n",
    "apnea_pNN50 = []\n",
    "normal_mean = []\n",
    "apnea_mean = []\n",
    "normal_sdsd = []\n",
    "apnea_sdsd = []\n",
    "normal_ecg = []\n",
    "apnea_ecg = []"
   ]
  },
  {
   "cell_type": "code",
   "execution_count": 39,
   "metadata": {},
   "outputs": [],
   "source": [
    "for i in range(len(train_features)):\n",
    "    if train_labels[i] == 0.0: #normal\n",
    "        normal_rmssd.append(train_features[i][4])\n",
    "        normal_pNN50.append(train_features[i][5])\n",
    "        normal_mean.append(train_features[i][1])\n",
    "        normal_sdsd.append(train_features[i][3])\n",
    "        normal_ecg.append(train_features[i][0])\n",
    "    elif train_labels[i] == 1.0: #apnea\n",
    "        apnea_rmssd.append(train_features[i][4])\n",
    "        apnea_pNN50.append(train_features[i][5])\n",
    "        apnea_mean.append(train_features[i][1])\n",
    "        apnea_sdsd.append(train_features[i][3])\n",
    "        apnea_ecg.append(train_features[i][0])"
   ]
  },
  {
   "cell_type": "code",
   "execution_count": 44,
   "metadata": {},
   "outputs": [],
   "source": [
    "normal_ecg_ = np.asarray(normal_ecg).ravel()\n",
    "apnea_ecg_ = np.asarray(apnea_ecg).ravel()"
   ]
  },
  {
   "cell_type": "code",
   "execution_count": 47,
   "metadata": {},
   "outputs": [
    {
     "data": {
      "image/png": "[encoded data removed]",
      "text/plain": [
       "<Figure size 3600x720 with 1 Axes>"
      ]
     },
     "metadata": {
      "needs_background": "light"
     },
     "output_type": "display_data"
    },
    {
     "data": {
      "text/plain": [
       "[<matplotlib.lines.Line2D at 0x121b87d30>]"
      ]
     },
     "execution_count": 47,
     "metadata": {},
     "output_type": "execute_result"
    },
    {
     "data": {
      "image/png": "[encoded data removed]",
      "text/plain": [
       "<Figure size 3600x720 with 1 Axes>"
      ]
     },
     "metadata": {
      "needs_background": "light"
     },
     "output_type": "display_data"
    }
   ],
   "source": [
    "plt.figure(figsize=(50,10))\n",
    "plt.plot(normal_ecg_)\n",
    "plt.show()\n",
    "\n",
    "plt.figure(figsize=(50,10))\n",
    "plt.plot(apnea_ecg_)"
   ]
  },
  {
   "cell_type": "markdown",
   "metadata": {},
   "source": [
    "# ML"
   ]
  },
  {
   "cell_type": "code",
   "execution_count": 297,
   "metadata": {},
   "outputs": [],
   "source": [
    "trainX = np.load('train_features.npy', allow_pickle=True)\n",
    "trainy = np.load('train_labels.npy', allow_pickle=True)\n",
    "testX = np.load('test_features.npy', allow_pickle=True)\n",
    "testy = np.load('test_labels.npy', allow_pickle=True)"
   ]
  },
  {
   "cell_type": "code",
   "execution_count": 298,
   "metadata": {},
   "outputs": [],
   "source": [
    "from torch.utils.data import Dataset, DataLoader\n",
    "from torchvision import transforms"
   ]
  },
  {
   "cell_type": "code",
   "execution_count": 299,
   "metadata": {},
   "outputs": [],
   "source": [
    "trainX_1 = []\n",
    "testX_1 = []\n",
    "for i in range(len(trainX)):\n",
    "    trainX_1.append(trainX[i][0])\n",
    "    #trainX_2.append(trainX[i][1:6])\n",
    "for i in range(len(testX)):\n",
    "    testX_1.append(testX[i][0])\n",
    "    #testX_2.append(testX[i][1:6])\n",
    "trainX_1 = np.asarray(trainX_1)\n",
    "# trainX_2 = np.asarray(trainX_2, dtype=np.float32)\n",
    "testX_1 = np.asarray(testX_1)\n",
    "#testX_2 = np.asarray(testX_2, dtype=np.float32)"
   ]
  },
  {
   "cell_type": "code",
   "execution_count": 301,
   "metadata": {},
   "outputs": [
    {
     "data": {
      "text/plain": [
       "(13757, 240)"
      ]
     },
     "execution_count": 301,
     "metadata": {},
     "output_type": "execute_result"
    }
   ],
   "source": [
    "trainX_1.shape"
   ]
  },
  {
   "cell_type": "code",
   "execution_count": 302,
   "metadata": {},
   "outputs": [],
   "source": [
    "class data_loader(Dataset):\n",
    "    def __init__(self, samples, labels, t):\n",
    "        self.samples = samples\n",
    "        self.labels = labels\n",
    "        self.T = t\n",
    "    \n",
    "    def __getitem__(self, index):\n",
    "        sample, target = self.samples[index], self.labels[index]\n",
    "        if self.T:\n",
    "            return self.T(sample), target\n",
    "        else:\n",
    "            return sample, target\n",
    "        \n",
    "    def __len__(self):\n",
    "        return len(self.samples)"
   ]
  },
  {
   "cell_type": "code",
   "execution_count": 303,
   "metadata": {},
   "outputs": [],
   "source": [
    "transform = None\n",
    "train_set = data_loader(trainX_1, trainy, transform)\n",
    "test_set = data_loader(testX_1, testy, transform)\n",
    "batch_size = 64\n",
    "train_loader = DataLoader(train_set, batch_size=batch_size, shuffle=True, drop_last=True)\n",
    "test_loader = DataLoader(test_set, batch_size=batch_size, shuffle=False)"
   ]
  },
  {
   "cell_type": "code",
   "execution_count": 304,
   "metadata": {},
   "outputs": [],
   "source": [
    "import torch.nn as nn\n",
    "import torch.nn.functional as F\n",
    "import torch"
   ]
  },
  {
   "cell_type": "code",
   "execution_count": 305,
   "metadata": {},
   "outputs": [],
   "source": [
    "class Network(nn.Module):\n",
    "    def __init__(self):\n",
    "        super(Network, self).__init__()\n",
    "        \n",
    "        self.conv1 = nn.Sequential(\n",
    "            nn.Conv2d(in_channels=1, out_channels=32, kernel_size=(1,5)),\n",
    "            nn.ReLU(),\n",
    "            nn.MaxPool2d(kernel_size=(1,2), stride=2)\n",
    "        )\n",
    "        \n",
    "        self.conv2 = nn.Sequential(\n",
    "            nn.Conv2d(in_channels=32, out_channels=64, kernel_size=(1,5)),\n",
    "            nn.ReLU(),\n",
    "            nn.MaxPool2d(kernel_size=(1,2), stride=2)\n",
    "        )\n",
    "        \n",
    "        #self.drop = nn.Dropout(0.2)\n",
    "        \n",
    "        self.fc1 = nn.Sequential(\n",
    "            nn.Linear(in_features=57 * 64, out_features=1000),\n",
    "            nn.ReLU()\n",
    "        )\n",
    "        \n",
    "        self.fc2 = nn.Sequential(\n",
    "            nn.Linear(in_features=1000, out_features=500),\n",
    "            nn.ReLU()\n",
    "        )\n",
    "        \n",
    "        self.fc3 = nn.Sequential(\n",
    "            nn.Linear(in_features=500, out_features = 2)\n",
    "        )\n",
    "    \n",
    "    def forward(self, x):\n",
    "        #print('x shape: ', x.shape)\n",
    "        out = self.conv1(x)\n",
    "        #print('conv1 shape: ', out.shape)\n",
    "        out = self.conv2(out)\n",
    "        \n",
    "        #out = self.drop(out)\n",
    "        #print('conv2 shape: ', out.shape)\n",
    "        out = out.reshape(-1, 57 * 64)\n",
    "        #print('after reshape: ', out.shape)\n",
    "        out = self.fc1(out)\n",
    "        out = self.fc2(out)\n",
    "        \n",
    "        out = self.fc3(out)\n",
    "        \n",
    "        out = F.softmax(out, dim = 1)\n",
    "        return out"
   ]
  },
  {
   "cell_type": "code",
   "execution_count": 306,
   "metadata": {},
   "outputs": [],
   "source": [
    "import matplotlib.pyplot as plt\n",
    "import numpy as np\n",
    "import torch\n",
    "import torch.nn as nn\n",
    "import torch.optim as optim"
   ]
  },
  {
   "cell_type": "code",
   "execution_count": 307,
   "metadata": {},
   "outputs": [],
   "source": [
    "def train(model, optimizer, train_loader, test_loader):\n",
    "    n_batch = len(train_loader.dataset) // 64\n",
    "    criterion = nn.CrossEntropyLoss()\n",
    "    epoch = 100\n",
    "    best_train_acc = 0\n",
    "    best_test_acc = 0\n",
    "    m = nn.Sigmoid()\n",
    "    for e in range(epoch):\n",
    "        model.train()\n",
    "        correct, total_loss = 0, 0\n",
    "        total = 0\n",
    "        for index, (sample, target) in enumerate(train_loader):\n",
    "            target = target.long()\n",
    "            #print('sample original: ', sample.shape)\n",
    "            sample = sample.view(-1,1,1,240)\n",
    "            #print('sample : ', sample.shape)\n",
    "            output = model(sample.float())\n",
    "            loss = criterion(output, target)\n",
    "            optimizer.zero_grad()\n",
    "            loss.backward()\n",
    "            optimizer.step()\n",
    "            total_loss += loss.item()\n",
    "            _, predicted = torch.max(output.data, 1)\n",
    "            total += target.size(0)\n",
    "            correct += (predicted==target).sum()\n",
    "            \n",
    "            if index % 50 == 0 :\n",
    "                print('Epoch: [{}/{}], Batch[{}/{}], loss: {:.4f}'\n",
    "                      .format(e+1, epoch, index + 1, n_batch, loss.item()))\n",
    "        \n",
    "        acc_train = float(correct) * 100.0 / (64 * n_batch)\n",
    "        print('Epoch: [{}/{}], loss: {:.4f}, train acc: {:.2f}%'.format(e + 1, epoch, total_loss * 1.0 / n_batch,\n",
    "                                                                      acc_train))\n",
    "        \n",
    "        if acc_train > best_train_acc:\n",
    "            best_train_acc = acc_train\n",
    "        \n",
    "        #test\n",
    "        model.train(False)\n",
    "        with torch.no_grad():\n",
    "            correct, total = 0, 0\n",
    "            for sample, target in test_loader:\n",
    "                sample = sample.view(-1,1,1,240)\n",
    "                output = model(sample.float())\n",
    "                _, predicted = torch.max(output.data, 1)\n",
    "                total += target.size(0)\n",
    "                correct += (predicted==target).sum()\n",
    "                \n",
    "        acc_test = float(correct) * 100 / total\n",
    "        print('Epoch: [{}/{}], test acc: {:.2f}%'.format(e + 1, epoch, float(correct) * 100 / total))\n",
    "        \n",
    "        if acc_test > best_test_acc:\n",
    "            best_test_acc = acc_test\n",
    "    print('best train acc is: ', best_train_acc)\n",
    "    print('best test acc is: ', best_test_acc)"
   ]
  },
  {
   "cell_type": "code",
   "execution_count": 308,
   "metadata": {},
   "outputs": [
    {
     "name": "stdout",
     "output_type": "stream",
     "text": [
      "Epoch: [1/100], Batch[1/214], loss: 0.7782\n",
      "Epoch: [1/100], Batch[51/214], loss: 0.6683\n",
      "Epoch: [1/100], Batch[101/214], loss: 0.5994\n",
      "Epoch: [1/100], Batch[151/214], loss: 0.5583\n",
      "Epoch: [1/100], Batch[201/214], loss: 0.5229\n",
      "Epoch: [1/100], loss: 0.6094, train acc: 69.20%\n",
      "Epoch: [1/100], test acc: 78.03%\n",
      "Epoch: [2/100], Batch[1/214], loss: 0.5811\n",
      "Epoch: [2/100], Batch[51/214], loss: 0.4911\n",
      "Epoch: [2/100], Batch[101/214], loss: 0.5640\n",
      "Epoch: [2/100], Batch[151/214], loss: 0.5102\n",
      "Epoch: [2/100], Batch[201/214], loss: 0.5248\n",
      "Epoch: [2/100], loss: 0.5511, train acc: 75.07%\n",
      "Epoch: [2/100], test acc: 79.77%\n",
      "Epoch: [3/100], Batch[1/214], loss: 0.5484\n",
      "Epoch: [3/100], Batch[51/214], loss: 0.6011\n",
      "Epoch: [3/100], Batch[101/214], loss: 0.5561\n",
      "Epoch: [3/100], Batch[151/214], loss: 0.4379\n",
      "Epoch: [3/100], Batch[201/214], loss: 0.5418\n",
      "Epoch: [3/100], loss: 0.5323, train acc: 77.05%\n",
      "Epoch: [3/100], test acc: 80.55%\n",
      "Epoch: [4/100], Batch[1/214], loss: 0.5968\n",
      "Epoch: [4/100], Batch[51/214], loss: 0.5473\n",
      "Epoch: [4/100], Batch[101/214], loss: 0.4850\n",
      "Epoch: [4/100], Batch[151/214], loss: 0.4631\n",
      "Epoch: [4/100], Batch[201/214], loss: 0.5032\n",
      "Epoch: [4/100], loss: 0.5247, train acc: 78.02%\n",
      "Epoch: [4/100], test acc: 80.88%\n",
      "Epoch: [5/100], Batch[1/214], loss: 0.5029\n",
      "Epoch: [5/100], Batch[51/214], loss: 0.4641\n",
      "Epoch: [5/100], Batch[101/214], loss: 0.5338\n",
      "Epoch: [5/100], Batch[151/214], loss: 0.4961\n",
      "Epoch: [5/100], Batch[201/214], loss: 0.4830\n",
      "Epoch: [5/100], loss: 0.5088, train acc: 79.69%\n",
      "Epoch: [5/100], test acc: 80.07%\n",
      "Epoch: [6/100], Batch[1/214], loss: 0.4707\n",
      "Epoch: [6/100], Batch[51/214], loss: 0.4834\n",
      "Epoch: [6/100], Batch[101/214], loss: 0.6011\n",
      "Epoch: [6/100], Batch[151/214], loss: 0.5072\n",
      "Epoch: [6/100], Batch[201/214], loss: 0.5265\n",
      "Epoch: [6/100], loss: 0.5045, train acc: 80.11%\n",
      "Epoch: [6/100], test acc: 81.21%\n",
      "Epoch: [7/100], Batch[1/214], loss: 0.4863\n",
      "Epoch: [7/100], Batch[51/214], loss: 0.4711\n",
      "Epoch: [7/100], Batch[101/214], loss: 0.5048\n",
      "Epoch: [7/100], Batch[151/214], loss: 0.4970\n",
      "Epoch: [7/100], Batch[201/214], loss: 0.5195\n",
      "Epoch: [7/100], loss: 0.4964, train acc: 80.97%\n",
      "Epoch: [7/100], test acc: 82.21%\n",
      "Epoch: [8/100], Batch[1/214], loss: 0.4773\n",
      "Epoch: [8/100], Batch[51/214], loss: 0.5190\n",
      "Epoch: [8/100], Batch[101/214], loss: 0.5404\n",
      "Epoch: [8/100], Batch[151/214], loss: 0.4965\n",
      "Epoch: [8/100], Batch[201/214], loss: 0.4146\n",
      "Epoch: [8/100], loss: 0.4900, train acc: 81.91%\n",
      "Epoch: [8/100], test acc: 81.95%\n",
      "Epoch: [9/100], Batch[1/214], loss: 0.4508\n",
      "Epoch: [9/100], Batch[51/214], loss: 0.4441\n",
      "Epoch: [9/100], Batch[101/214], loss: 0.5034\n",
      "Epoch: [9/100], Batch[151/214], loss: 0.4525\n",
      "Epoch: [9/100], Batch[201/214], loss: 0.4935\n",
      "Epoch: [9/100], loss: 0.4863, train acc: 82.29%\n",
      "Epoch: [9/100], test acc: 78.14%\n",
      "Epoch: [10/100], Batch[1/214], loss: 0.4729\n",
      "Epoch: [10/100], Batch[51/214], loss: 0.4401\n",
      "Epoch: [10/100], Batch[101/214], loss: 0.4625\n",
      "Epoch: [10/100], Batch[151/214], loss: 0.4727\n",
      "Epoch: [10/100], Batch[201/214], loss: 0.4401\n",
      "Epoch: [10/100], loss: 0.4817, train acc: 82.79%\n",
      "Epoch: [10/100], test acc: 79.81%\n",
      "Epoch: [11/100], Batch[1/214], loss: 0.4741\n",
      "Epoch: [11/100], Batch[51/214], loss: 0.5003\n",
      "Epoch: [11/100], Batch[101/214], loss: 0.4774\n",
      "Epoch: [11/100], Batch[151/214], loss: 0.4983\n",
      "Epoch: [11/100], Batch[201/214], loss: 0.5151\n",
      "Epoch: [11/100], loss: 0.4738, train acc: 83.62%\n",
      "Epoch: [11/100], test acc: 82.95%\n",
      "Epoch: [12/100], Batch[1/214], loss: 0.4719\n",
      "Epoch: [12/100], Batch[51/214], loss: 0.4688\n",
      "Epoch: [12/100], Batch[101/214], loss: 0.4345\n",
      "Epoch: [12/100], Batch[151/214], loss: 0.4379\n",
      "Epoch: [12/100], Batch[201/214], loss: 0.4618\n",
      "Epoch: [12/100], loss: 0.4675, train acc: 84.43%\n",
      "Epoch: [12/100], test acc: 82.62%\n",
      "Epoch: [13/100], Batch[1/214], loss: 0.4577\n",
      "Epoch: [13/100], Batch[51/214], loss: 0.5148\n",
      "Epoch: [13/100], Batch[101/214], loss: 0.4594\n",
      "Epoch: [13/100], Batch[151/214], loss: 0.5898\n",
      "Epoch: [13/100], Batch[201/214], loss: 0.3826\n",
      "Epoch: [13/100], loss: 0.4603, train acc: 85.17%\n",
      "Epoch: [13/100], test acc: 81.55%\n",
      "Epoch: [14/100], Batch[1/214], loss: 0.4993\n",
      "Epoch: [14/100], Batch[51/214], loss: 0.5165\n",
      "Epoch: [14/100], Batch[101/214], loss: 0.4386\n",
      "Epoch: [14/100], Batch[151/214], loss: 0.4823\n",
      "Epoch: [14/100], Batch[201/214], loss: 0.4453\n",
      "Epoch: [14/100], loss: 0.4576, train acc: 85.57%\n",
      "Epoch: [14/100], test acc: 82.06%\n",
      "Epoch: [15/100], Batch[1/214], loss: 0.4787\n",
      "Epoch: [15/100], Batch[51/214], loss: 0.4285\n",
      "Epoch: [15/100], Batch[101/214], loss: 0.4795\n",
      "Epoch: [15/100], Batch[151/214], loss: 0.4977\n",
      "Epoch: [15/100], Batch[201/214], loss: 0.4731\n",
      "Epoch: [15/100], loss: 0.4522, train acc: 86.18%\n",
      "Epoch: [15/100], test acc: 81.07%\n",
      "Epoch: [16/100], Batch[1/214], loss: 0.4550\n",
      "Epoch: [16/100], Batch[51/214], loss: 0.4480\n",
      "Epoch: [16/100], Batch[101/214], loss: 0.4151\n",
      "Epoch: [16/100], Batch[151/214], loss: 0.4304\n",
      "Epoch: [16/100], Batch[201/214], loss: 0.4568\n",
      "Epoch: [16/100], loss: 0.4442, train acc: 87.19%\n",
      "Epoch: [16/100], test acc: 81.92%\n",
      "Epoch: [17/100], Batch[1/214], loss: 0.4061\n",
      "Epoch: [17/100], Batch[51/214], loss: 0.3943\n",
      "Epoch: [17/100], Batch[101/214], loss: 0.3888\n",
      "Epoch: [17/100], Batch[151/214], loss: 0.4615\n",
      "Epoch: [17/100], Batch[201/214], loss: 0.4421\n",
      "Epoch: [17/100], loss: 0.4422, train acc: 87.30%\n",
      "Epoch: [17/100], test acc: 78.44%\n",
      "Epoch: [18/100], Batch[1/214], loss: 0.4850\n",
      "Epoch: [18/100], Batch[51/214], loss: 0.4302\n",
      "Epoch: [18/100], Batch[101/214], loss: 0.4882\n",
      "Epoch: [18/100], Batch[151/214], loss: 0.4058\n",
      "Epoch: [18/100], Batch[201/214], loss: 0.4232\n",
      "Epoch: [18/100], loss: 0.4418, train acc: 87.44%\n",
      "Epoch: [18/100], test acc: 81.51%\n",
      "Epoch: [19/100], Batch[1/214], loss: 0.4294\n",
      "Epoch: [19/100], Batch[51/214], loss: 0.4336\n",
      "Epoch: [19/100], Batch[101/214], loss: 0.3805\n",
      "Epoch: [19/100], Batch[151/214], loss: 0.4498\n",
      "Epoch: [19/100], Batch[201/214], loss: 0.4701\n",
      "Epoch: [19/100], loss: 0.4372, train acc: 87.78%\n",
      "Epoch: [19/100], test acc: 81.84%\n",
      "Epoch: [20/100], Batch[1/214], loss: 0.4004\n",
      "Epoch: [20/100], Batch[51/214], loss: 0.4537\n",
      "Epoch: [20/100], Batch[101/214], loss: 0.4028\n",
      "Epoch: [20/100], Batch[151/214], loss: 0.4144\n",
      "Epoch: [20/100], Batch[201/214], loss: 0.4397\n",
      "Epoch: [20/100], loss: 0.4317, train acc: 88.38%\n",
      "Epoch: [20/100], test acc: 82.10%\n",
      "Epoch: [21/100], Batch[1/214], loss: 0.4657\n",
      "Epoch: [21/100], Batch[51/214], loss: 0.4386\n",
      "Epoch: [21/100], Batch[101/214], loss: 0.4521\n",
      "Epoch: [21/100], Batch[151/214], loss: 0.4563\n",
      "Epoch: [21/100], Batch[201/214], loss: 0.4387\n",
      "Epoch: [21/100], loss: 0.4229, train acc: 89.52%\n",
      "Epoch: [21/100], test acc: 80.84%\n",
      "Epoch: [22/100], Batch[1/214], loss: 0.3586\n",
      "Epoch: [22/100], Batch[51/214], loss: 0.4287\n",
      "Epoch: [22/100], Batch[101/214], loss: 0.3672\n",
      "Epoch: [22/100], Batch[151/214], loss: 0.4724\n",
      "Epoch: [22/100], Batch[201/214], loss: 0.4242\n",
      "Epoch: [22/100], loss: 0.4146, train acc: 90.41%\n",
      "Epoch: [22/100], test acc: 81.77%\n",
      "Epoch: [23/100], Batch[1/214], loss: 0.4047\n",
      "Epoch: [23/100], Batch[51/214], loss: 0.3760\n",
      "Epoch: [23/100], Batch[101/214], loss: 0.3592\n",
      "Epoch: [23/100], Batch[151/214], loss: 0.4002\n",
      "Epoch: [23/100], Batch[201/214], loss: 0.4132\n",
      "Epoch: [23/100], loss: 0.4133, train acc: 90.44%\n",
      "Epoch: [23/100], test acc: 81.80%\n",
      "Epoch: [24/100], Batch[1/214], loss: 0.3321\n",
      "Epoch: [24/100], Batch[51/214], loss: 0.3610\n",
      "Epoch: [24/100], Batch[101/214], loss: 0.3710\n",
      "Epoch: [24/100], Batch[151/214], loss: 0.4540\n",
      "Epoch: [24/100], Batch[201/214], loss: 0.3757\n",
      "Epoch: [24/100], loss: 0.4111, train acc: 90.64%\n",
      "Epoch: [24/100], test acc: 82.10%\n",
      "Epoch: [25/100], Batch[1/214], loss: 0.4029\n",
      "Epoch: [25/100], Batch[51/214], loss: 0.4112\n",
      "Epoch: [25/100], Batch[101/214], loss: 0.3960\n",
      "Epoch: [25/100], Batch[151/214], loss: 0.4193\n",
      "Epoch: [25/100], Batch[201/214], loss: 0.3789\n",
      "Epoch: [25/100], loss: 0.4143, train acc: 90.36%\n",
      "Epoch: [25/100], test acc: 77.44%\n",
      "Epoch: [26/100], Batch[1/214], loss: 0.4529\n",
      "Epoch: [26/100], Batch[51/214], loss: 0.4216\n",
      "Epoch: [26/100], Batch[101/214], loss: 0.4513\n",
      "Epoch: [26/100], Batch[151/214], loss: 0.4281\n",
      "Epoch: [26/100], Batch[201/214], loss: 0.3717\n",
      "Epoch: [26/100], loss: 0.4122, train acc: 90.41%\n",
      "Epoch: [26/100], test acc: 82.10%\n",
      "Epoch: [27/100], Batch[1/214], loss: 0.4450\n",
      "Epoch: [27/100], Batch[51/214], loss: 0.3761\n",
      "Epoch: [27/100], Batch[101/214], loss: 0.3793\n",
      "Epoch: [27/100], Batch[151/214], loss: 0.4040\n",
      "Epoch: [27/100], Batch[201/214], loss: 0.4141\n"
     ]
    },
    {
     "name": "stdout",
     "output_type": "stream",
     "text": [
      "Epoch: [27/100], loss: 0.3994, train acc: 92.03%\n",
      "Epoch: [27/100], test acc: 81.80%\n",
      "Epoch: [28/100], Batch[1/214], loss: 0.4060\n",
      "Epoch: [28/100], Batch[51/214], loss: 0.4055\n",
      "Epoch: [28/100], Batch[101/214], loss: 0.3791\n",
      "Epoch: [28/100], Batch[151/214], loss: 0.4423\n",
      "Epoch: [28/100], Batch[201/214], loss: 0.3524\n",
      "Epoch: [28/100], loss: 0.3974, train acc: 92.18%\n",
      "Epoch: [28/100], test acc: 81.47%\n",
      "Epoch: [29/100], Batch[1/214], loss: 0.3723\n",
      "Epoch: [29/100], Batch[51/214], loss: 0.4022\n",
      "Epoch: [29/100], Batch[101/214], loss: 0.3907\n",
      "Epoch: [29/100], Batch[151/214], loss: 0.3668\n",
      "Epoch: [29/100], Batch[201/214], loss: 0.4205\n",
      "Epoch: [29/100], loss: 0.4001, train acc: 91.90%\n",
      "Epoch: [29/100], test acc: 82.03%\n",
      "Epoch: [30/100], Batch[1/214], loss: 0.3930\n",
      "Epoch: [30/100], Batch[51/214], loss: 0.3521\n",
      "Epoch: [30/100], Batch[101/214], loss: 0.3884\n",
      "Epoch: [30/100], Batch[151/214], loss: 0.3640\n",
      "Epoch: [30/100], Batch[201/214], loss: 0.4015\n",
      "Epoch: [30/100], loss: 0.3932, train acc: 92.60%\n",
      "Epoch: [30/100], test acc: 81.62%\n",
      "Epoch: [31/100], Batch[1/214], loss: 0.4978\n",
      "Epoch: [31/100], Batch[51/214], loss: 0.3939\n",
      "Epoch: [31/100], Batch[101/214], loss: 0.4058\n",
      "Epoch: [31/100], Batch[151/214], loss: 0.3695\n",
      "Epoch: [31/100], Batch[201/214], loss: 0.3863\n",
      "Epoch: [31/100], loss: 0.3907, train acc: 92.95%\n",
      "Epoch: [31/100], test acc: 81.18%\n",
      "Epoch: [32/100], Batch[1/214], loss: 0.3691\n",
      "Epoch: [32/100], Batch[51/214], loss: 0.3562\n",
      "Epoch: [32/100], Batch[101/214], loss: 0.3883\n",
      "Epoch: [32/100], Batch[151/214], loss: 0.4233\n",
      "Epoch: [32/100], Batch[201/214], loss: 0.3953\n",
      "Epoch: [32/100], loss: 0.3957, train acc: 92.16%\n",
      "Epoch: [32/100], test acc: 81.40%\n",
      "Epoch: [33/100], Batch[1/214], loss: 0.3970\n",
      "Epoch: [33/100], Batch[51/214], loss: 0.3634\n",
      "Epoch: [33/100], Batch[101/214], loss: 0.3596\n",
      "Epoch: [33/100], Batch[151/214], loss: 0.3547\n",
      "Epoch: [33/100], Batch[201/214], loss: 0.3986\n",
      "Epoch: [33/100], loss: 0.3864, train acc: 93.30%\n",
      "Epoch: [33/100], test acc: 81.29%\n",
      "Epoch: [34/100], Batch[1/214], loss: 0.4105\n",
      "Epoch: [34/100], Batch[51/214], loss: 0.3869\n",
      "Epoch: [34/100], Batch[101/214], loss: 0.3578\n",
      "Epoch: [34/100], Batch[151/214], loss: 0.3557\n",
      "Epoch: [34/100], Batch[201/214], loss: 0.3808\n",
      "Epoch: [34/100], loss: 0.3773, train acc: 94.22%\n",
      "Epoch: [34/100], test acc: 80.51%\n",
      "Epoch: [35/100], Batch[1/214], loss: 0.3515\n",
      "Epoch: [35/100], Batch[51/214], loss: 0.3486\n",
      "Epoch: [35/100], Batch[101/214], loss: 0.3757\n",
      "Epoch: [35/100], Batch[151/214], loss: 0.3454\n",
      "Epoch: [35/100], Batch[201/214], loss: 0.3918\n",
      "Epoch: [35/100], loss: 0.3731, train acc: 94.58%\n",
      "Epoch: [35/100], test acc: 81.77%\n",
      "Epoch: [36/100], Batch[1/214], loss: 0.3849\n",
      "Epoch: [36/100], Batch[51/214], loss: 0.3811\n",
      "Epoch: [36/100], Batch[101/214], loss: 0.3782\n",
      "Epoch: [36/100], Batch[151/214], loss: 0.3351\n",
      "Epoch: [36/100], Batch[201/214], loss: 0.3599\n",
      "Epoch: [36/100], loss: 0.3740, train acc: 94.42%\n",
      "Epoch: [36/100], test acc: 78.62%\n",
      "Epoch: [37/100], Batch[1/214], loss: 0.3672\n",
      "Epoch: [37/100], Batch[51/214], loss: 0.3777\n",
      "Epoch: [37/100], Batch[101/214], loss: 0.4544\n",
      "Epoch: [37/100], Batch[151/214], loss: 0.3455\n",
      "Epoch: [37/100], Batch[201/214], loss: 0.4148\n",
      "Epoch: [37/100], loss: 0.3961, train acc: 92.04%\n",
      "Epoch: [37/100], test acc: 81.47%\n",
      "Epoch: [38/100], Batch[1/214], loss: 0.3765\n",
      "Epoch: [38/100], Batch[51/214], loss: 0.3357\n",
      "Epoch: [38/100], Batch[101/214], loss: 0.4083\n",
      "Epoch: [38/100], Batch[151/214], loss: 0.3934\n",
      "Epoch: [38/100], Batch[201/214], loss: 0.3716\n",
      "Epoch: [38/100], loss: 0.3846, train acc: 93.43%\n",
      "Epoch: [38/100], test acc: 81.18%\n",
      "Epoch: [39/100], Batch[1/214], loss: 0.3687\n",
      "Epoch: [39/100], Batch[51/214], loss: 0.3830\n",
      "Epoch: [39/100], Batch[101/214], loss: 0.3503\n",
      "Epoch: [39/100], Batch[151/214], loss: 0.3830\n",
      "Epoch: [39/100], Batch[201/214], loss: 0.3992\n",
      "Epoch: [39/100], loss: 0.3746, train acc: 94.39%\n",
      "Epoch: [39/100], test acc: 80.14%\n",
      "Epoch: [40/100], Batch[1/214], loss: 0.3618\n",
      "Epoch: [40/100], Batch[51/214], loss: 0.3829\n",
      "Epoch: [40/100], Batch[101/214], loss: 0.3768\n",
      "Epoch: [40/100], Batch[151/214], loss: 0.3694\n",
      "Epoch: [40/100], Batch[201/214], loss: 0.3883\n",
      "Epoch: [40/100], loss: 0.3858, train acc: 93.14%\n",
      "Epoch: [40/100], test acc: 81.10%\n",
      "Epoch: [41/100], Batch[1/214], loss: 0.3757\n",
      "Epoch: [41/100], Batch[51/214], loss: 0.4239\n",
      "Epoch: [41/100], Batch[101/214], loss: 0.3697\n",
      "Epoch: [41/100], Batch[151/214], loss: 0.3816\n",
      "Epoch: [41/100], Batch[201/214], loss: 0.3372\n",
      "Epoch: [41/100], loss: 0.3759, train acc: 94.30%\n",
      "Epoch: [41/100], test acc: 79.51%\n",
      "Epoch: [42/100], Batch[1/214], loss: 0.4096\n",
      "Epoch: [42/100], Batch[51/214], loss: 0.3535\n",
      "Epoch: [42/100], Batch[101/214], loss: 0.3982\n",
      "Epoch: [42/100], Batch[151/214], loss: 0.3674\n",
      "Epoch: [42/100], Batch[201/214], loss: 0.3955\n",
      "Epoch: [42/100], loss: 0.3746, train acc: 94.38%\n",
      "Epoch: [42/100], test acc: 80.40%\n",
      "Epoch: [43/100], Batch[1/214], loss: 0.3517\n",
      "Epoch: [43/100], Batch[51/214], loss: 0.3478\n",
      "Epoch: [43/100], Batch[101/214], loss: 0.4309\n",
      "Epoch: [43/100], Batch[151/214], loss: 0.3163\n",
      "Epoch: [43/100], Batch[201/214], loss: 0.4088\n",
      "Epoch: [43/100], loss: 0.3634, train acc: 95.47%\n",
      "Epoch: [43/100], test acc: 80.58%\n",
      "Epoch: [44/100], Batch[1/214], loss: 0.3327\n",
      "Epoch: [44/100], Batch[51/214], loss: 0.3491\n",
      "Epoch: [44/100], Batch[101/214], loss: 0.4073\n",
      "Epoch: [44/100], Batch[151/214], loss: 0.3625\n",
      "Epoch: [44/100], Batch[201/214], loss: 0.3310\n",
      "Epoch: [44/100], loss: 0.3627, train acc: 95.52%\n",
      "Epoch: [44/100], test acc: 80.33%\n",
      "Epoch: [45/100], Batch[1/214], loss: 0.3464\n",
      "Epoch: [45/100], Batch[51/214], loss: 0.4293\n",
      "Epoch: [45/100], Batch[101/214], loss: 0.3371\n",
      "Epoch: [45/100], Batch[151/214], loss: 0.4679\n",
      "Epoch: [45/100], Batch[201/214], loss: 0.3244\n",
      "Epoch: [45/100], loss: 0.3954, train acc: 91.85%\n",
      "Epoch: [45/100], test acc: 79.88%\n",
      "Epoch: [46/100], Batch[1/214], loss: 0.3447\n",
      "Epoch: [46/100], Batch[51/214], loss: 0.3405\n",
      "Epoch: [46/100], Batch[101/214], loss: 0.3942\n",
      "Epoch: [46/100], Batch[151/214], loss: 0.4239\n",
      "Epoch: [46/100], Batch[201/214], loss: 0.4298\n",
      "Epoch: [46/100], loss: 0.3689, train acc: 94.90%\n",
      "Epoch: [46/100], test acc: 79.70%\n",
      "Epoch: [47/100], Batch[1/214], loss: 0.3546\n",
      "Epoch: [47/100], Batch[51/214], loss: 0.3463\n",
      "Epoch: [47/100], Batch[101/214], loss: 0.3399\n",
      "Epoch: [47/100], Batch[151/214], loss: 0.3978\n",
      "Epoch: [47/100], Batch[201/214], loss: 0.3530\n",
      "Epoch: [47/100], loss: 0.3644, train acc: 95.32%\n",
      "Epoch: [47/100], test acc: 80.81%\n",
      "Epoch: [48/100], Batch[1/214], loss: 0.3161\n",
      "Epoch: [48/100], Batch[51/214], loss: 0.3806\n",
      "Epoch: [48/100], Batch[101/214], loss: 0.3900\n",
      "Epoch: [48/100], Batch[151/214], loss: 0.3543\n",
      "Epoch: [48/100], Batch[201/214], loss: 0.3579\n",
      "Epoch: [48/100], loss: 0.3702, train acc: 94.66%\n",
      "Epoch: [48/100], test acc: 80.77%\n",
      "Epoch: [49/100], Batch[1/214], loss: 0.3704\n",
      "Epoch: [49/100], Batch[51/214], loss: 0.3548\n",
      "Epoch: [49/100], Batch[101/214], loss: 0.3512\n",
      "Epoch: [49/100], Batch[151/214], loss: 0.3852\n",
      "Epoch: [49/100], Batch[201/214], loss: 0.3698\n",
      "Epoch: [49/100], loss: 0.3697, train acc: 94.76%\n",
      "Epoch: [49/100], test acc: 80.73%\n",
      "Epoch: [50/100], Batch[1/214], loss: 0.3533\n",
      "Epoch: [50/100], Batch[51/214], loss: 0.3640\n",
      "Epoch: [50/100], Batch[101/214], loss: 0.3842\n",
      "Epoch: [50/100], Batch[151/214], loss: 0.4148\n",
      "Epoch: [50/100], Batch[201/214], loss: 0.3344\n",
      "Epoch: [50/100], loss: 0.3629, train acc: 95.41%\n",
      "Epoch: [50/100], test acc: 81.18%\n",
      "Epoch: [51/100], Batch[1/214], loss: 0.3639\n",
      "Epoch: [51/100], Batch[51/214], loss: 0.3308\n",
      "Epoch: [51/100], Batch[101/214], loss: 0.3655\n",
      "Epoch: [51/100], Batch[151/214], loss: 0.3324\n",
      "Epoch: [51/100], Batch[201/214], loss: 0.3166\n",
      "Epoch: [51/100], loss: 0.3572, train acc: 95.94%\n",
      "Epoch: [51/100], test acc: 80.47%\n",
      "Epoch: [52/100], Batch[1/214], loss: 0.3335\n",
      "Epoch: [52/100], Batch[51/214], loss: 0.3303\n",
      "Epoch: [52/100], Batch[101/214], loss: 0.4242\n",
      "Epoch: [52/100], Batch[151/214], loss: 0.4020\n",
      "Epoch: [52/100], Batch[201/214], loss: 0.3373\n",
      "Epoch: [52/100], loss: 0.3563, train acc: 95.96%\n",
      "Epoch: [52/100], test acc: 80.95%\n",
      "Epoch: [53/100], Batch[1/214], loss: 0.4228\n",
      "Epoch: [53/100], Batch[51/214], loss: 0.3483\n",
      "Epoch: [53/100], Batch[101/214], loss: 0.3616\n",
      "Epoch: [53/100], Batch[151/214], loss: 0.3462\n",
      "Epoch: [53/100], Batch[201/214], loss: 0.3774\n",
      "Epoch: [53/100], loss: 0.3534, train acc: 96.17%\n",
      "Epoch: [53/100], test acc: 80.99%\n",
      "Epoch: [54/100], Batch[1/214], loss: 0.3459\n",
      "Epoch: [54/100], Batch[51/214], loss: 0.3458\n"
     ]
    },
    {
     "name": "stdout",
     "output_type": "stream",
     "text": [
      "Epoch: [54/100], Batch[101/214], loss: 0.3454\n",
      "Epoch: [54/100], Batch[151/214], loss: 0.3472\n",
      "Epoch: [54/100], Batch[201/214], loss: 0.3609\n",
      "Epoch: [54/100], loss: 0.3525, train acc: 96.21%\n",
      "Epoch: [54/100], test acc: 80.77%\n",
      "Epoch: [55/100], Batch[1/214], loss: 0.3456\n",
      "Epoch: [55/100], Batch[51/214], loss: 0.3622\n",
      "Epoch: [55/100], Batch[101/214], loss: 0.3928\n",
      "Epoch: [55/100], Batch[151/214], loss: 0.3299\n",
      "Epoch: [55/100], Batch[201/214], loss: 0.3300\n",
      "Epoch: [55/100], loss: 0.3521, train acc: 96.21%\n",
      "Epoch: [55/100], test acc: 80.84%\n",
      "Epoch: [56/100], Batch[1/214], loss: 0.3139\n",
      "Epoch: [56/100], Batch[51/214], loss: 0.4078\n",
      "Epoch: [56/100], Batch[101/214], loss: 0.3613\n",
      "Epoch: [56/100], Batch[151/214], loss: 0.3303\n",
      "Epoch: [56/100], Batch[201/214], loss: 0.3613\n",
      "Epoch: [56/100], loss: 0.3520, train acc: 96.20%\n",
      "Epoch: [56/100], test acc: 80.81%\n",
      "Epoch: [57/100], Batch[1/214], loss: 0.3922\n",
      "Epoch: [57/100], Batch[51/214], loss: 0.3451\n",
      "Epoch: [57/100], Batch[101/214], loss: 0.3313\n",
      "Epoch: [57/100], Batch[151/214], loss: 0.4083\n",
      "Epoch: [57/100], Batch[201/214], loss: 0.3510\n",
      "Epoch: [57/100], loss: 0.3526, train acc: 96.18%\n",
      "Epoch: [57/100], test acc: 79.88%\n",
      "Epoch: [58/100], Batch[1/214], loss: 0.3607\n",
      "Epoch: [58/100], Batch[51/214], loss: 0.3460\n",
      "Epoch: [58/100], Batch[101/214], loss: 0.3456\n",
      "Epoch: [58/100], Batch[151/214], loss: 0.3417\n",
      "Epoch: [58/100], Batch[201/214], loss: 0.4308\n",
      "Epoch: [58/100], loss: 0.3771, train acc: 93.65%\n",
      "Epoch: [58/100], test acc: 80.73%\n",
      "Epoch: [59/100], Batch[1/214], loss: 0.3888\n",
      "Epoch: [59/100], Batch[51/214], loss: 0.3891\n",
      "Epoch: [59/100], Batch[101/214], loss: 0.3661\n",
      "Epoch: [59/100], Batch[151/214], loss: 0.3212\n",
      "Epoch: [59/100], Batch[201/214], loss: 0.3350\n",
      "Epoch: [59/100], loss: 0.3704, train acc: 94.56%\n",
      "Epoch: [59/100], test acc: 80.73%\n",
      "Epoch: [60/100], Batch[1/214], loss: 0.3646\n",
      "Epoch: [60/100], Batch[51/214], loss: 0.3621\n",
      "Epoch: [60/100], Batch[101/214], loss: 0.3649\n",
      "Epoch: [60/100], Batch[151/214], loss: 0.3709\n",
      "Epoch: [60/100], Batch[201/214], loss: 0.3776\n",
      "Epoch: [60/100], loss: 0.3566, train acc: 95.98%\n",
      "Epoch: [60/100], test acc: 79.18%\n",
      "Epoch: [61/100], Batch[1/214], loss: 0.3773\n",
      "Epoch: [61/100], Batch[51/214], loss: 0.3500\n",
      "Epoch: [61/100], Batch[101/214], loss: 0.3634\n",
      "Epoch: [61/100], Batch[151/214], loss: 0.3987\n",
      "Epoch: [61/100], Batch[201/214], loss: 0.3773\n",
      "Epoch: [61/100], loss: 0.3565, train acc: 95.93%\n",
      "Epoch: [61/100], test acc: 79.92%\n",
      "Epoch: [62/100], Batch[1/214], loss: 0.3424\n",
      "Epoch: [62/100], Batch[51/214], loss: 0.3297\n",
      "Epoch: [62/100], Batch[101/214], loss: 0.3787\n",
      "Epoch: [62/100], Batch[151/214], loss: 0.3909\n",
      "Epoch: [62/100], Batch[201/214], loss: 0.3491\n",
      "Epoch: [62/100], loss: 0.3673, train acc: 94.82%\n",
      "Epoch: [62/100], test acc: 79.99%\n",
      "Epoch: [63/100], Batch[1/214], loss: 0.3432\n",
      "Epoch: [63/100], Batch[51/214], loss: 0.3829\n",
      "Epoch: [63/100], Batch[101/214], loss: 0.3688\n",
      "Epoch: [63/100], Batch[151/214], loss: 0.3493\n",
      "Epoch: [63/100], Batch[201/214], loss: 0.3936\n",
      "Epoch: [63/100], loss: 0.3643, train acc: 95.20%\n",
      "Epoch: [63/100], test acc: 80.36%\n",
      "Epoch: [64/100], Batch[1/214], loss: 0.4274\n",
      "Epoch: [64/100], Batch[51/214], loss: 0.3324\n",
      "Epoch: [64/100], Batch[101/214], loss: 0.3361\n",
      "Epoch: [64/100], Batch[151/214], loss: 0.3716\n",
      "Epoch: [64/100], Batch[201/214], loss: 0.3856\n",
      "Epoch: [64/100], loss: 0.3627, train acc: 95.31%\n",
      "Epoch: [64/100], test acc: 80.29%\n",
      "Epoch: [65/100], Batch[1/214], loss: 0.3927\n",
      "Epoch: [65/100], Batch[51/214], loss: 0.3257\n",
      "Epoch: [65/100], Batch[101/214], loss: 0.3338\n",
      "Epoch: [65/100], Batch[151/214], loss: 0.3725\n",
      "Epoch: [65/100], Batch[201/214], loss: 0.3767\n",
      "Epoch: [65/100], loss: 0.3614, train acc: 95.45%\n",
      "Epoch: [65/100], test acc: 78.44%\n",
      "Epoch: [66/100], Batch[1/214], loss: 0.3805\n",
      "Epoch: [66/100], Batch[51/214], loss: 0.3669\n",
      "Epoch: [66/100], Batch[101/214], loss: 0.3386\n",
      "Epoch: [66/100], Batch[151/214], loss: 0.3877\n",
      "Epoch: [66/100], Batch[201/214], loss: 0.3955\n",
      "Epoch: [66/100], loss: 0.3676, train acc: 94.80%\n",
      "Epoch: [66/100], test acc: 79.70%\n",
      "Epoch: [67/100], Batch[1/214], loss: 0.3662\n",
      "Epoch: [67/100], Batch[51/214], loss: 0.3794\n",
      "Epoch: [67/100], Batch[101/214], loss: 0.3712\n",
      "Epoch: [67/100], Batch[151/214], loss: 0.3943\n",
      "Epoch: [67/100], Batch[201/214], loss: 0.3485\n",
      "Epoch: [67/100], loss: 0.3568, train acc: 95.96%\n",
      "Epoch: [67/100], test acc: 79.62%\n",
      "Epoch: [68/100], Batch[1/214], loss: 0.3304\n",
      "Epoch: [68/100], Batch[51/214], loss: 0.4024\n",
      "Epoch: [68/100], Batch[101/214], loss: 0.4229\n",
      "Epoch: [68/100], Batch[151/214], loss: 0.4127\n",
      "Epoch: [68/100], Batch[201/214], loss: 0.3497\n",
      "Epoch: [68/100], loss: 0.3782, train acc: 93.64%\n",
      "Epoch: [68/100], test acc: 80.25%\n",
      "Epoch: [69/100], Batch[1/214], loss: 0.3821\n",
      "Epoch: [69/100], Batch[51/214], loss: 0.3236\n",
      "Epoch: [69/100], Batch[101/214], loss: 0.3353\n",
      "Epoch: [69/100], Batch[151/214], loss: 0.4027\n",
      "Epoch: [69/100], Batch[201/214], loss: 0.3797\n",
      "Epoch: [69/100], loss: 0.3576, train acc: 95.87%\n",
      "Epoch: [69/100], test acc: 79.59%\n",
      "Epoch: [70/100], Batch[1/214], loss: 0.3298\n",
      "Epoch: [70/100], Batch[51/214], loss: 0.4001\n",
      "Epoch: [70/100], Batch[101/214], loss: 0.3470\n",
      "Epoch: [70/100], Batch[151/214], loss: 0.3427\n",
      "Epoch: [70/100], Batch[201/214], loss: 0.3504\n",
      "Epoch: [70/100], loss: 0.3539, train acc: 96.13%\n",
      "Epoch: [70/100], test acc: 80.62%\n",
      "Epoch: [71/100], Batch[1/214], loss: 0.3613\n",
      "Epoch: [71/100], Batch[51/214], loss: 0.3449\n",
      "Epoch: [71/100], Batch[101/214], loss: 0.3620\n",
      "Epoch: [71/100], Batch[151/214], loss: 0.3612\n",
      "Epoch: [71/100], Batch[201/214], loss: 0.3941\n",
      "Epoch: [71/100], loss: 0.3515, train acc: 96.33%\n",
      "Epoch: [71/100], test acc: 80.10%\n",
      "Epoch: [72/100], Batch[1/214], loss: 0.3630\n",
      "Epoch: [72/100], Batch[51/214], loss: 0.3334\n",
      "Epoch: [72/100], Batch[101/214], loss: 0.3339\n",
      "Epoch: [72/100], Batch[151/214], loss: 0.3772\n",
      "Epoch: [72/100], Batch[201/214], loss: 0.3463\n",
      "Epoch: [72/100], loss: 0.3531, train acc: 96.20%\n",
      "Epoch: [72/100], test acc: 81.03%\n",
      "Epoch: [73/100], Batch[1/214], loss: 0.3448\n",
      "Epoch: [73/100], Batch[51/214], loss: 0.3997\n",
      "Epoch: [73/100], Batch[101/214], loss: 0.3470\n",
      "Epoch: [73/100], Batch[151/214], loss: 0.4002\n",
      "Epoch: [73/100], Batch[201/214], loss: 0.3931\n",
      "Epoch: [73/100], loss: 0.3608, train acc: 95.45%\n",
      "Epoch: [73/100], test acc: 80.03%\n",
      "Epoch: [74/100], Batch[1/214], loss: 0.3596\n",
      "Epoch: [74/100], Batch[51/214], loss: 0.3362\n",
      "Epoch: [74/100], Batch[101/214], loss: 0.3769\n",
      "Epoch: [74/100], Batch[151/214], loss: 0.3497\n",
      "Epoch: [74/100], Batch[201/214], loss: 0.3454\n",
      "Epoch: [74/100], loss: 0.3521, train acc: 96.30%\n",
      "Epoch: [74/100], test acc: 80.84%\n",
      "Epoch: [75/100], Batch[1/214], loss: 0.3254\n",
      "Epoch: [75/100], Batch[51/214], loss: 0.3450\n",
      "Epoch: [75/100], Batch[101/214], loss: 0.3618\n",
      "Epoch: [75/100], Batch[151/214], loss: 0.3489\n",
      "Epoch: [75/100], Batch[201/214], loss: 0.3458\n",
      "Epoch: [75/100], loss: 0.3526, train acc: 96.20%\n",
      "Epoch: [75/100], test acc: 80.25%\n",
      "Epoch: [76/100], Batch[1/214], loss: 0.3608\n",
      "Epoch: [76/100], Batch[51/214], loss: 0.3448\n",
      "Epoch: [76/100], Batch[101/214], loss: 0.3931\n",
      "Epoch: [76/100], Batch[151/214], loss: 0.3612\n",
      "Epoch: [76/100], Batch[201/214], loss: 0.3547\n",
      "Epoch: [76/100], loss: 0.3513, train acc: 96.30%\n",
      "Epoch: [76/100], test acc: 80.47%\n",
      "Epoch: [77/100], Batch[1/214], loss: 0.3464\n",
      "Epoch: [77/100], Batch[51/214], loss: 0.3488\n",
      "Epoch: [77/100], Batch[101/214], loss: 0.3144\n",
      "Epoch: [77/100], Batch[151/214], loss: 0.4074\n",
      "Epoch: [77/100], Batch[201/214], loss: 0.3470\n",
      "Epoch: [77/100], loss: 0.3519, train acc: 96.26%\n",
      "Epoch: [77/100], test acc: 80.77%\n",
      "Epoch: [78/100], Batch[1/214], loss: 0.3615\n",
      "Epoch: [78/100], Batch[51/214], loss: 0.3152\n",
      "Epoch: [78/100], Batch[101/214], loss: 0.3507\n",
      "Epoch: [78/100], Batch[151/214], loss: 0.3788\n",
      "Epoch: [78/100], Batch[201/214], loss: 0.3763\n",
      "Epoch: [78/100], loss: 0.3519, train acc: 96.29%\n",
      "Epoch: [78/100], test acc: 80.29%\n",
      "Epoch: [79/100], Batch[1/214], loss: 0.3302\n",
      "Epoch: [79/100], Batch[51/214], loss: 0.3296\n",
      "Epoch: [79/100], Batch[101/214], loss: 0.3147\n",
      "Epoch: [79/100], Batch[151/214], loss: 0.3292\n",
      "Epoch: [79/100], Batch[201/214], loss: 0.3503\n",
      "Epoch: [79/100], loss: 0.3491, train acc: 96.50%\n",
      "Epoch: [79/100], test acc: 79.96%\n",
      "Epoch: [80/100], Batch[1/214], loss: 0.3917\n",
      "Epoch: [80/100], Batch[51/214], loss: 0.3604\n",
      "Epoch: [80/100], Batch[101/214], loss: 0.3610\n",
      "Epoch: [80/100], Batch[151/214], loss: 0.3303\n",
      "Epoch: [80/100], Batch[201/214], loss: 0.3604\n"
     ]
    },
    {
     "name": "stdout",
     "output_type": "stream",
     "text": [
      "Epoch: [80/100], loss: 0.3485, train acc: 96.53%\n",
      "Epoch: [80/100], test acc: 80.36%\n",
      "Epoch: [81/100], Batch[1/214], loss: 0.4072\n",
      "Epoch: [81/100], Batch[51/214], loss: 0.3290\n",
      "Epoch: [81/100], Batch[101/214], loss: 0.3454\n",
      "Epoch: [81/100], Batch[151/214], loss: 0.3295\n",
      "Epoch: [81/100], Batch[201/214], loss: 0.3914\n",
      "Epoch: [81/100], loss: 0.3482, train acc: 96.55%\n",
      "Epoch: [81/100], test acc: 80.55%\n",
      "Epoch: [82/100], Batch[1/214], loss: 0.3295\n",
      "Epoch: [82/100], Batch[51/214], loss: 0.3449\n",
      "Epoch: [82/100], Batch[101/214], loss: 0.3447\n",
      "Epoch: [82/100], Batch[151/214], loss: 0.3447\n",
      "Epoch: [82/100], Batch[201/214], loss: 0.3450\n",
      "Epoch: [82/100], loss: 0.3482, train acc: 96.55%\n",
      "Epoch: [82/100], test acc: 80.51%\n",
      "Epoch: [83/100], Batch[1/214], loss: 0.3446\n",
      "Epoch: [83/100], Batch[51/214], loss: 0.3451\n",
      "Epoch: [83/100], Batch[101/214], loss: 0.3146\n",
      "Epoch: [83/100], Batch[151/214], loss: 0.3459\n",
      "Epoch: [83/100], Batch[201/214], loss: 0.3407\n",
      "Epoch: [83/100], loss: 0.3581, train acc: 95.52%\n",
      "Epoch: [83/100], test acc: 80.77%\n",
      "Epoch: [84/100], Batch[1/214], loss: 0.3785\n",
      "Epoch: [84/100], Batch[51/214], loss: 0.3182\n",
      "Epoch: [84/100], Batch[101/214], loss: 0.3304\n",
      "Epoch: [84/100], Batch[151/214], loss: 0.3214\n",
      "Epoch: [84/100], Batch[201/214], loss: 0.3452\n",
      "Epoch: [84/100], loss: 0.3517, train acc: 96.25%\n",
      "Epoch: [84/100], test acc: 80.73%\n",
      "Epoch: [85/100], Batch[1/214], loss: 0.3448\n",
      "Epoch: [85/100], Batch[51/214], loss: 0.3731\n",
      "Epoch: [85/100], Batch[101/214], loss: 0.3449\n",
      "Epoch: [85/100], Batch[151/214], loss: 0.3455\n",
      "Epoch: [85/100], Batch[201/214], loss: 0.3448\n",
      "Epoch: [85/100], loss: 0.3507, train acc: 96.36%\n",
      "Epoch: [85/100], test acc: 79.62%\n",
      "Epoch: [86/100], Batch[1/214], loss: 0.3318\n",
      "Epoch: [86/100], Batch[51/214], loss: 0.3297\n",
      "Epoch: [86/100], Batch[101/214], loss: 0.3325\n",
      "Epoch: [86/100], Batch[151/214], loss: 0.3447\n",
      "Epoch: [86/100], Batch[201/214], loss: 0.3603\n",
      "Epoch: [86/100], loss: 0.3526, train acc: 96.21%\n",
      "Epoch: [86/100], test acc: 80.14%\n",
      "Epoch: [87/100], Batch[1/214], loss: 0.3309\n",
      "Epoch: [87/100], Batch[51/214], loss: 0.3373\n",
      "Epoch: [87/100], Batch[101/214], loss: 0.3620\n",
      "Epoch: [87/100], Batch[151/214], loss: 0.3917\n",
      "Epoch: [87/100], Batch[201/214], loss: 0.3613\n",
      "Epoch: [87/100], loss: 0.3512, train acc: 96.35%\n",
      "Epoch: [87/100], test acc: 80.70%\n",
      "Epoch: [88/100], Batch[1/214], loss: 0.3763\n",
      "Epoch: [88/100], Batch[51/214], loss: 0.3467\n",
      "Epoch: [88/100], Batch[101/214], loss: 0.3144\n",
      "Epoch: [88/100], Batch[151/214], loss: 0.3467\n",
      "Epoch: [88/100], Batch[201/214], loss: 0.3202\n",
      "Epoch: [88/100], loss: 0.3506, train acc: 96.33%\n",
      "Epoch: [88/100], test acc: 80.18%\n",
      "Epoch: [89/100], Batch[1/214], loss: 0.3611\n",
      "Epoch: [89/100], Batch[51/214], loss: 0.3672\n",
      "Epoch: [89/100], Batch[101/214], loss: 0.3717\n",
      "Epoch: [89/100], Batch[151/214], loss: 0.3316\n",
      "Epoch: [89/100], Batch[201/214], loss: 0.3464\n",
      "Epoch: [89/100], loss: 0.3593, train acc: 95.50%\n",
      "Epoch: [89/100], test acc: 79.44%\n",
      "Epoch: [90/100], Batch[1/214], loss: 0.3305\n",
      "Epoch: [90/100], Batch[51/214], loss: 0.3458\n",
      "Epoch: [90/100], Batch[101/214], loss: 0.3616\n",
      "Epoch: [90/100], Batch[151/214], loss: 0.3541\n",
      "Epoch: [90/100], Batch[201/214], loss: 0.3611\n",
      "Epoch: [90/100], loss: 0.3549, train acc: 96.00%\n",
      "Epoch: [90/100], test acc: 79.81%\n",
      "Epoch: [91/100], Batch[1/214], loss: 0.3299\n",
      "Epoch: [91/100], Batch[51/214], loss: 0.3294\n",
      "Epoch: [91/100], Batch[101/214], loss: 0.3610\n",
      "Epoch: [91/100], Batch[151/214], loss: 0.3296\n",
      "Epoch: [91/100], Batch[201/214], loss: 0.3605\n",
      "Epoch: [91/100], loss: 0.3508, train acc: 96.35%\n",
      "Epoch: [91/100], test acc: 80.21%\n",
      "Epoch: [92/100], Batch[1/214], loss: 0.3451\n",
      "Epoch: [92/100], Batch[51/214], loss: 0.4081\n",
      "Epoch: [92/100], Batch[101/214], loss: 0.3139\n",
      "Epoch: [92/100], Batch[151/214], loss: 0.3761\n",
      "Epoch: [92/100], Batch[201/214], loss: 0.3296\n",
      "Epoch: [92/100], loss: 0.3488, train acc: 96.51%\n",
      "Epoch: [92/100], test acc: 80.66%\n",
      "Epoch: [93/100], Batch[1/214], loss: 0.3295\n",
      "Epoch: [93/100], Batch[51/214], loss: 0.3764\n",
      "Epoch: [93/100], Batch[101/214], loss: 0.3919\n",
      "Epoch: [93/100], Batch[151/214], loss: 0.3763\n",
      "Epoch: [93/100], Batch[201/214], loss: 0.3448\n",
      "Epoch: [93/100], loss: 0.3480, train acc: 96.57%\n",
      "Epoch: [93/100], test acc: 80.36%\n",
      "Epoch: [94/100], Batch[1/214], loss: 0.3136\n",
      "Epoch: [94/100], Batch[51/214], loss: 0.3292\n",
      "Epoch: [94/100], Batch[101/214], loss: 0.3448\n",
      "Epoch: [94/100], Batch[151/214], loss: 0.3914\n",
      "Epoch: [94/100], Batch[201/214], loss: 0.3760\n",
      "Epoch: [94/100], loss: 0.3478, train acc: 96.58%\n",
      "Epoch: [94/100], test acc: 80.40%\n",
      "Epoch: [95/100], Batch[1/214], loss: 0.4385\n",
      "Epoch: [95/100], Batch[51/214], loss: 0.3295\n",
      "Epoch: [95/100], Batch[101/214], loss: 0.3448\n",
      "Epoch: [95/100], Batch[151/214], loss: 0.3761\n",
      "Epoch: [95/100], Batch[201/214], loss: 0.3135\n",
      "Epoch: [95/100], loss: 0.3476, train acc: 96.60%\n",
      "Epoch: [95/100], test acc: 80.55%\n",
      "Epoch: [96/100], Batch[1/214], loss: 0.3137\n",
      "Epoch: [96/100], Batch[51/214], loss: 0.3293\n",
      "Epoch: [96/100], Batch[101/214], loss: 0.3293\n",
      "Epoch: [96/100], Batch[151/214], loss: 0.3292\n",
      "Epoch: [96/100], Batch[201/214], loss: 0.3446\n",
      "Epoch: [96/100], loss: 0.3476, train acc: 96.60%\n",
      "Epoch: [96/100], test acc: 80.51%\n",
      "Epoch: [97/100], Batch[1/214], loss: 0.3447\n",
      "Epoch: [97/100], Batch[51/214], loss: 0.3447\n",
      "Epoch: [97/100], Batch[101/214], loss: 0.3447\n",
      "Epoch: [97/100], Batch[151/214], loss: 0.3447\n",
      "Epoch: [97/100], Batch[201/214], loss: 0.3293\n",
      "Epoch: [97/100], loss: 0.3476, train acc: 96.59%\n",
      "Epoch: [97/100], test acc: 80.58%\n",
      "Epoch: [98/100], Batch[1/214], loss: 0.3915\n",
      "Epoch: [98/100], Batch[51/214], loss: 0.3604\n",
      "Epoch: [98/100], Batch[101/214], loss: 0.3293\n",
      "Epoch: [98/100], Batch[151/214], loss: 0.3447\n",
      "Epoch: [98/100], Batch[201/214], loss: 0.3759\n",
      "Epoch: [98/100], loss: 0.3476, train acc: 96.59%\n",
      "Epoch: [98/100], test acc: 80.44%\n",
      "Epoch: [99/100], Batch[1/214], loss: 0.3605\n",
      "Epoch: [99/100], Batch[51/214], loss: 0.3604\n",
      "Epoch: [99/100], Batch[101/214], loss: 0.3292\n",
      "Epoch: [99/100], Batch[151/214], loss: 0.3290\n",
      "Epoch: [99/100], Batch[201/214], loss: 0.3290\n",
      "Epoch: [99/100], loss: 0.3474, train acc: 96.60%\n",
      "Epoch: [99/100], test acc: 80.47%\n",
      "Epoch: [100/100], Batch[1/214], loss: 0.3449\n",
      "Epoch: [100/100], Batch[51/214], loss: 0.4075\n",
      "Epoch: [100/100], Batch[101/214], loss: 0.3446\n",
      "Epoch: [100/100], Batch[151/214], loss: 0.3292\n",
      "Epoch: [100/100], Batch[201/214], loss: 0.3603\n",
      "Epoch: [100/100], loss: 0.3474, train acc: 96.60%\n",
      "Epoch: [100/100], test acc: 80.55%\n",
      "best train acc is:  96.60484813084112\n",
      "best test acc is:  82.95118343195266\n"
     ]
    }
   ],
   "source": [
    "model = Network().float()\n",
    "lr = 0.001\n",
    "momentum = 0.9\n",
    "optimizer = optim.SGD(params=model.parameters(), lr = lr, momentum=momentum)\n",
    "train(model, optimizer, train_loader, test_loader)"
   ]
  },
  {
   "cell_type": "markdown",
   "metadata": {},
   "source": [
    "# More features"
   ]
  },
  {
   "cell_type": "code",
   "execution_count": 309,
   "metadata": {},
   "outputs": [],
   "source": [
    "trainX = np.load('train_features.npy', allow_pickle=True)\n",
    "trainy = np.load('train_labels.npy', allow_pickle=True)\n",
    "testX = np.load('test_features.npy', allow_pickle=True)\n",
    "testy = np.load('test_labels.npy', allow_pickle=True)"
   ]
  },
  {
   "cell_type": "code",
   "execution_count": 310,
   "metadata": {},
   "outputs": [],
   "source": [
    "from torch.utils.data import Dataset, DataLoader\n",
    "from torchvision import transforms\n",
    "import torch"
   ]
  },
  {
   "cell_type": "code",
   "execution_count": 311,
   "metadata": {},
   "outputs": [],
   "source": [
    "trainX_1 = []\n",
    "trainX_2 = []\n",
    "testX_1 = []\n",
    "testX_2 = []\n",
    "for i in range(len(trainX)):\n",
    "    trainX_1.append(trainX[i][0])\n",
    "    trainX_2.append(trainX[i][1:6])\n",
    "for i in range(len(testX)):\n",
    "    testX_1.append(testX[i][0])\n",
    "    testX_2.append(testX[i][1:6])\n",
    "trainX_1 = np.asarray(trainX_1)\n",
    "trainX_2 = np.asarray(trainX_2, dtype=np.float32)\n",
    "testX_1 = np.asarray(testX_1)\n",
    "testX_2 = np.asarray(testX_2, dtype=np.float32)"
   ]
  },
  {
   "cell_type": "code",
   "execution_count": 312,
   "metadata": {},
   "outputs": [],
   "source": [
    "class data_loader(Dataset):\n",
    "    def __init__(self, samples, labels, t):\n",
    "        self.samples = samples\n",
    "        self.labels = labels\n",
    "        self.T = t\n",
    "    \n",
    "    def __getitem__(self, index):\n",
    "        sample, target = self.samples[index], self.labels[index]\n",
    "        if self.T:\n",
    "            return self.T(sample), target\n",
    "        else:\n",
    "            return sample, target\n",
    "        \n",
    "    def __len__(self):\n",
    "        return len(self.samples)"
   ]
  },
  {
   "cell_type": "code",
   "execution_count": 313,
   "metadata": {},
   "outputs": [],
   "source": [
    "class ConcatDataset(torch.utils.data.Dataset):\n",
    "    def __init__(self, *datasets):\n",
    "        self.datasets = datasets\n",
    "\n",
    "    def __getitem__(self, i):\n",
    "        return tuple(d[i] for d in self.datasets)\n",
    "\n",
    "    def __len__(self):\n",
    "        return min(len(d) for d in self.datasets)"
   ]
  },
  {
   "cell_type": "code",
   "execution_count": 314,
   "metadata": {},
   "outputs": [],
   "source": [
    "transform = None\n",
    "train_set_1 = data_loader(trainX_1, trainy, transform)\n",
    "train_set_2 = data_loader(trainX_2, trainy, transform)\n",
    "test_set_1 = data_loader(testX_1, testy, transform)\n",
    "test_set_2 = data_loader(testX_2, testy, transform)\n",
    "batch_size = 64\n",
    "train_loader = DataLoader(\n",
    "    ConcatDataset(\n",
    "        train_set_1,\n",
    "        train_set_2\n",
    "    ),\n",
    "    batch_size=batch_size, shuffle=True, drop_last=True)\n",
    "test_loader = DataLoader(\n",
    "    ConcatDataset(\n",
    "        test_set_1,\n",
    "        test_set_2\n",
    "    )\n",
    "    , batch_size=batch_size, shuffle=False)"
   ]
  },
  {
   "cell_type": "code",
   "execution_count": 328,
   "metadata": {},
   "outputs": [],
   "source": [
    "class Network(nn.Module):\n",
    "    def __init__(self):\n",
    "        super(Network, self).__init__()\n",
    "        \n",
    "        self.conv1 = nn.Sequential(\n",
    "            nn.Conv2d(in_channels=1, out_channels=32, kernel_size=(1,5)),\n",
    "            nn.ReLU(),\n",
    "            nn.MaxPool2d(kernel_size=(1,2), stride=2)\n",
    "        )\n",
    "        \n",
    "        self.conv2 = nn.Sequential(\n",
    "            nn.Conv2d(in_channels=32, out_channels=64, kernel_size=(1,5)),\n",
    "            nn.ReLU(),\n",
    "            nn.MaxPool2d(kernel_size=(1,2), stride=2)\n",
    "        )\n",
    "        \n",
    "        #self.drop = nn.Dropout(0.2)\n",
    "        \n",
    "        self.fc1 = nn.Sequential(\n",
    "            nn.Linear(in_features=57 * 64, out_features=1000),\n",
    "            nn.ReLU()\n",
    "        )\n",
    "        \n",
    "        self.fc2 = nn.Sequential(\n",
    "            nn.Linear(in_features=1000, out_features=500),\n",
    "            nn.ReLU()\n",
    "        )\n",
    "        \n",
    "        self.fc3 = nn.Sequential(\n",
    "            nn.Linear(in_features=5, out_features=300),\n",
    "            nn.ReLU()\n",
    "        )\n",
    "        \n",
    "        self.fc4 = nn.Sequential(\n",
    "            nn.Linear(in_features=300, out_features=100),\n",
    "            nn.ReLU()\n",
    "        )\n",
    "        \n",
    "        self.fc5 = nn.Sequential(\n",
    "            nn.Linear(in_features=600, out_features=1000),\n",
    "            nn.ReLU()\n",
    "        )\n",
    "        \n",
    "        \n",
    "        self.fc = nn.Sequential(\n",
    "            nn.Linear(in_features=1000, out_features = 2)\n",
    "        )\n",
    "    \n",
    "    def forward(self, x1, x2):\n",
    "        #print('x shape: ', x.shape)\n",
    "        out1 = self.conv1(x1)\n",
    "        #print('conv1 shape: ', out.shape)\n",
    "        out1 = self.conv2(out1)\n",
    "        \n",
    "        #out = self.drop(out)\n",
    "        #print('conv2 shape: ', out.shape)\n",
    "        out1 = out1.reshape(-1, 57 * 64)\n",
    "        #print('after reshape: ', out.shape)\n",
    "        out1 = self.fc1(out1)\n",
    "        out1 = self.fc2(out1)\n",
    "        #print('out1 shape: ', out1.shape)\n",
    "        \n",
    "        out2 = self.fc3(x2)\n",
    "        out2 = self.fc4(out2)\n",
    "        #print('out2 shape: ', out2.shape)\n",
    "        \n",
    "        out = torch.cat((out1, out2), dim=1)\n",
    "        #print('out shape: ', out.shape)\n",
    "        \n",
    "        out = self.fc5(out)\n",
    "        out = self.fc(out)\n",
    "        \n",
    "        out = F.softmax(out, dim = 1)\n",
    "        return out"
   ]
  },
  {
   "cell_type": "code",
   "execution_count": 329,
   "metadata": {},
   "outputs": [],
   "source": [
    "import matplotlib.pyplot as plt\n",
    "import numpy as np\n",
    "import torch\n",
    "import torch.nn as nn\n",
    "import torch.optim as optim"
   ]
  },
  {
   "cell_type": "code",
   "execution_count": 330,
   "metadata": {},
   "outputs": [],
   "source": [
    "def train(model, optimizer, train_loader, test_loader):\n",
    "    n_batch = len(train_loader.dataset) // 64\n",
    "    criterion = nn.CrossEntropyLoss()\n",
    "    epoch = 100\n",
    "    best_train_acc = 0\n",
    "    best_test_acc = 0\n",
    "    all_loss = []\n",
    "    m = nn.Sigmoid()\n",
    "    for e in range(epoch):\n",
    "        model.train()\n",
    "        correct, total_loss = 0, 0\n",
    "        total = 0\n",
    "        for index, (sample, target_) in enumerate(train_loader):\n",
    "            target = target_[1].long()\n",
    "            #print('sample original: ', sample.shape)\n",
    "            sample_1 = sample[0]\n",
    "            sample_1 = sample_1.view(-1,1,1,240)\n",
    "            \n",
    "            sample_2 = target_[0]\n",
    "            #print('sample_2 : ', sample_2)\n",
    "            output = model(sample_1.float(), sample_2.float())\n",
    "            loss = criterion(output, target)\n",
    "            optimizer.zero_grad()\n",
    "            loss.backward()\n",
    "            optimizer.step()\n",
    "            total_loss += loss.item()\n",
    "            _, predicted = torch.max(output.data, 1)\n",
    "            total += target.size(0)\n",
    "            correct += (predicted==target).sum()\n",
    "            \n",
    "            if index % 50 == 0 :\n",
    "                print('Epoch: [{}/{}], Batch[{}/{}], loss: {:.4f}'\n",
    "                      .format(e+1, epoch, index + 1, n_batch, loss.item()))\n",
    "        \n",
    "        acc_train = float(correct) * 100.0 / (64 * n_batch)\n",
    "        print('Epoch: [{}/{}], loss: {:.4f}, train acc: {:.2f}%'.format(e + 1, epoch, total_loss * 1.0 / n_batch,\n",
    "                                                                      acc_train))\n",
    "        all_loss.append(total_loss * 1.0 / n_batch)\n",
    "        \n",
    "        if acc_train > best_train_acc:\n",
    "            best_train_acc = acc_train\n",
    "        \n",
    "        #test\n",
    "        model.train(False)\n",
    "        with torch.no_grad():\n",
    "            correct, total = 0, 0\n",
    "            for index, (sample, target_) in enumerate(test_loader):\n",
    "                target = target_[1].long()\n",
    "                sample_1 = sample[0]\n",
    "                sample_1 = sample_1.view(-1,1,1,240)\n",
    "                sample_2 = target_[0]\n",
    "                output = model(sample_1.float(), sample_2.float())\n",
    "                _, predicted = torch.max(output.data, 1)\n",
    "                total += target.size(0)\n",
    "                correct += (predicted==target).sum()\n",
    "                \n",
    "        acc_test = float(correct) * 100 / total\n",
    "        print('Epoch: [{}/{}], test acc: {:.2f}%'.format(e + 1, epoch, float(correct) * 100 / total))\n",
    "        \n",
    "        if acc_test > best_test_acc:\n",
    "            best_test_acc = acc_test\n",
    "    print('best train acc is: ', best_train_acc)\n",
    "    print('best test acc is: ', best_test_acc)"
   ]
  },
  {
   "cell_type": "code",
   "execution_count": 331,
   "metadata": {},
   "outputs": [
    {
     "name": "stdout",
     "output_type": "stream",
     "text": [
      "Epoch: [1/100], Batch[1/214], loss: 0.8097\n",
      "Epoch: [1/100], Batch[51/214], loss: 0.6726\n",
      "Epoch: [1/100], Batch[101/214], loss: 0.7195\n",
      "Epoch: [1/100], Batch[151/214], loss: 0.7508\n",
      "Epoch: [1/100], Batch[201/214], loss: 0.7976\n",
      "Epoch: [1/100], loss: 0.7230, train acc: 58.94%\n",
      "Epoch: [1/100], test acc: 78.22%\n",
      "Epoch: [2/100], Batch[1/214], loss: 0.7664\n",
      "Epoch: [2/100], Batch[51/214], loss: 0.6883\n",
      "Epoch: [2/100], Batch[101/214], loss: 0.7351\n",
      "Epoch: [2/100], Batch[151/214], loss: 0.7351\n",
      "Epoch: [2/100], Batch[201/214], loss: 0.8601\n",
      "Epoch: [2/100], loss: 0.7216, train acc: 59.17%\n",
      "Epoch: [2/100], test acc: 78.22%\n",
      "Epoch: [3/100], Batch[1/214], loss: 0.7820\n",
      "Epoch: [3/100], Batch[51/214], loss: 0.6726\n",
      "Epoch: [3/100], Batch[101/214], loss: 0.7664\n",
      "Epoch: [3/100], Batch[151/214], loss: 0.7351\n",
      "Epoch: [3/100], Batch[201/214], loss: 0.7664\n",
      "Epoch: [3/100], loss: 0.7218, train acc: 59.14%\n",
      "Epoch: [3/100], test acc: 78.22%\n",
      "Epoch: [4/100], Batch[1/214], loss: 0.6883\n",
      "Epoch: [4/100], Batch[51/214], loss: 0.6726\n",
      "Epoch: [4/100], Batch[101/214], loss: 0.6570\n"
     ]
    },
    {
     "ename": "KeyboardInterrupt",
     "evalue": "",
     "output_type": "error",
     "traceback": [
      "\u001b[0;31m---------------------------------------------------------------------------\u001b[0m",
      "\u001b[0;31mKeyboardInterrupt\u001b[0m                         Traceback (most recent call last)",
      "\u001b[0;32m<ipython-input-331-572cef76ddca>\u001b[0m in \u001b[0;36m<module>\u001b[0;34m\u001b[0m\n\u001b[1;32m      3\u001b[0m \u001b[0mmomentum\u001b[0m \u001b[0;34m=\u001b[0m \u001b[0;36m0.9\u001b[0m\u001b[0;34m\u001b[0m\u001b[0;34m\u001b[0m\u001b[0m\n\u001b[1;32m      4\u001b[0m \u001b[0moptimizer\u001b[0m \u001b[0;34m=\u001b[0m \u001b[0moptim\u001b[0m\u001b[0;34m.\u001b[0m\u001b[0mSGD\u001b[0m\u001b[0;34m(\u001b[0m\u001b[0mparams\u001b[0m\u001b[0;34m=\u001b[0m\u001b[0mmodel\u001b[0m\u001b[0;34m.\u001b[0m\u001b[0mparameters\u001b[0m\u001b[0;34m(\u001b[0m\u001b[0;34m)\u001b[0m\u001b[0;34m,\u001b[0m \u001b[0mlr\u001b[0m \u001b[0;34m=\u001b[0m \u001b[0mlr\u001b[0m\u001b[0;34m,\u001b[0m \u001b[0mmomentum\u001b[0m\u001b[0;34m=\u001b[0m\u001b[0mmomentum\u001b[0m\u001b[0;34m)\u001b[0m\u001b[0;34m\u001b[0m\u001b[0;34m\u001b[0m\u001b[0m\n\u001b[0;32m----> 5\u001b[0;31m \u001b[0mtrain\u001b[0m\u001b[0;34m(\u001b[0m\u001b[0mmodel\u001b[0m\u001b[0;34m,\u001b[0m \u001b[0moptimizer\u001b[0m\u001b[0;34m,\u001b[0m \u001b[0mtrain_loader\u001b[0m\u001b[0;34m,\u001b[0m \u001b[0mtest_loader\u001b[0m\u001b[0;34m)\u001b[0m\u001b[0;34m\u001b[0m\u001b[0;34m\u001b[0m\u001b[0m\n\u001b[0m",
      "\u001b[0;32m<ipython-input-330-d047e89d4d0c>\u001b[0m in \u001b[0;36mtrain\u001b[0;34m(model, optimizer, train_loader, test_loader)\u001b[0m\n\u001b[1;32m     23\u001b[0m             \u001b[0moptimizer\u001b[0m\u001b[0;34m.\u001b[0m\u001b[0mzero_grad\u001b[0m\u001b[0;34m(\u001b[0m\u001b[0;34m)\u001b[0m\u001b[0;34m\u001b[0m\u001b[0;34m\u001b[0m\u001b[0m\n\u001b[1;32m     24\u001b[0m             \u001b[0mloss\u001b[0m\u001b[0;34m.\u001b[0m\u001b[0mbackward\u001b[0m\u001b[0;34m(\u001b[0m\u001b[0;34m)\u001b[0m\u001b[0;34m\u001b[0m\u001b[0;34m\u001b[0m\u001b[0m\n\u001b[0;32m---> 25\u001b[0;31m             \u001b[0moptimizer\u001b[0m\u001b[0;34m.\u001b[0m\u001b[0mstep\u001b[0m\u001b[0;34m(\u001b[0m\u001b[0;34m)\u001b[0m\u001b[0;34m\u001b[0m\u001b[0;34m\u001b[0m\u001b[0m\n\u001b[0m\u001b[1;32m     26\u001b[0m             \u001b[0mtotal_loss\u001b[0m \u001b[0;34m+=\u001b[0m \u001b[0mloss\u001b[0m\u001b[0;34m.\u001b[0m\u001b[0mitem\u001b[0m\u001b[0;34m(\u001b[0m\u001b[0;34m)\u001b[0m\u001b[0;34m\u001b[0m\u001b[0;34m\u001b[0m\u001b[0m\n\u001b[1;32m     27\u001b[0m             \u001b[0m_\u001b[0m\u001b[0;34m,\u001b[0m \u001b[0mpredicted\u001b[0m \u001b[0;34m=\u001b[0m \u001b[0mtorch\u001b[0m\u001b[0;34m.\u001b[0m\u001b[0mmax\u001b[0m\u001b[0;34m(\u001b[0m\u001b[0moutput\u001b[0m\u001b[0;34m.\u001b[0m\u001b[0mdata\u001b[0m\u001b[0;34m,\u001b[0m \u001b[0;36m1\u001b[0m\u001b[0;34m)\u001b[0m\u001b[0;34m\u001b[0m\u001b[0;34m\u001b[0m\u001b[0m\n",
      "\u001b[0;32m~/anaconda3/lib/python3.7/site-packages/torch/optim/sgd.py\u001b[0m in \u001b[0;36mstep\u001b[0;34m(self, closure)\u001b[0m\n\u001b[1;32m    104\u001b[0m                         \u001b[0md_p\u001b[0m \u001b[0;34m=\u001b[0m \u001b[0mbuf\u001b[0m\u001b[0;34m\u001b[0m\u001b[0;34m\u001b[0m\u001b[0m\n\u001b[1;32m    105\u001b[0m \u001b[0;34m\u001b[0m\u001b[0m\n\u001b[0;32m--> 106\u001b[0;31m                 \u001b[0mp\u001b[0m\u001b[0;34m.\u001b[0m\u001b[0mdata\u001b[0m\u001b[0;34m.\u001b[0m\u001b[0madd_\u001b[0m\u001b[0;34m(\u001b[0m\u001b[0;34m-\u001b[0m\u001b[0mgroup\u001b[0m\u001b[0;34m[\u001b[0m\u001b[0;34m'lr'\u001b[0m\u001b[0;34m]\u001b[0m\u001b[0;34m,\u001b[0m \u001b[0md_p\u001b[0m\u001b[0;34m)\u001b[0m\u001b[0;34m\u001b[0m\u001b[0;34m\u001b[0m\u001b[0m\n\u001b[0m\u001b[1;32m    107\u001b[0m \u001b[0;34m\u001b[0m\u001b[0m\n\u001b[1;32m    108\u001b[0m         \u001b[0;32mreturn\u001b[0m \u001b[0mloss\u001b[0m\u001b[0;34m\u001b[0m\u001b[0;34m\u001b[0m\u001b[0m\n",
      "\u001b[0;31mKeyboardInterrupt\u001b[0m: "
     ]
    }
   ],
   "source": [
    "model = Network().float()\n",
    "lr = 0.01\n",
    "momentum = 0.9\n",
    "optimizer = optim.SGD(params=model.parameters(), lr = lr, momentum=momentum)\n",
    "train(model, optimizer, train_loader, test_loader)"
   ]
  },
  {
   "cell_type": "markdown",
   "metadata": {},
   "source": [
    "# Only with stat feature"
   ]
  },
  {
   "cell_type": "code",
   "execution_count": 353,
   "metadata": {},
   "outputs": [],
   "source": [
    "trainX = np.load('train_features.npy', allow_pickle=True)\n",
    "trainy = np.load('train_labels.npy', allow_pickle=True)\n",
    "testX = np.load('test_features.npy', allow_pickle=True)\n",
    "testy = np.load('test_labels.npy', allow_pickle=True)"
   ]
  },
  {
   "cell_type": "code",
   "execution_count": 355,
   "metadata": {},
   "outputs": [],
   "source": [
    "#trainX_1 = []\n",
    "#testX_1 = []\n",
    "trainX_2 = []\n",
    "testX_2 = []\n",
    "for i in range(len(trainX)):\n",
    "    #trainX_1.append(trainX[i][0])\n",
    "    trainX_2.append(trainX[i][1:6])\n",
    "for i in range(len(testX)):\n",
    "    #testX_1.append(testX[i][0])\n",
    "    testX_2.append(testX[i][1:6])\n",
    "#trainX_1 = np.asarray(trainX_1)\n",
    "trainX_2 = np.asarray(trainX_2, dtype=np.float32)\n",
    "#testX_1 = np.asarray(testX_1)\n",
    "testX_2 = np.asarray(testX_2, dtype=np.float32)"
   ]
  },
  {
   "cell_type": "code",
   "execution_count": 375,
   "metadata": {},
   "outputs": [],
   "source": [
    "from tpot import TPOTClassifier\n",
    "from sklearn.datasets import load_digits\n",
    "from sklearn.model_selection import train_test_split"
   ]
  },
  {
   "cell_type": "code",
   "execution_count": 376,
   "metadata": {},
   "outputs": [
    {
     "name": "stdout",
     "output_type": "stream",
     "text": [
      "Warning: xgboost.XGBClassifier is not available and will not be used by TPOT.\n"
     ]
    },
    {
     "data": {
      "application/vnd.jupyter.widget-view+json": {
       "model_id": "",
       "version_major": 2,
       "version_minor": 0
      },
      "text/plain": [
       "HBox(children=(IntProgress(value=0, description='Optimization Progress', max=120, style=ProgressStyle(descript…"
      ]
     },
     "metadata": {},
     "output_type": "display_data"
    },
    {
     "name": "stdout",
     "output_type": "stream",
     "text": [
      "Generation 1 - Current best internal CV score: 0.7218083223436722\n",
      "Generation 2 - Current best internal CV score: 0.725951662397606\n",
      "Generation 3 - Current best internal CV score: 0.7263151137429941\n",
      "Generation 4 - Current best internal CV score: 0.7263151137429941\n",
      "Generation 5 - Current best internal CV score: 0.7264605154151134\n",
      "\n",
      "Best pipeline: LogisticRegression(CombineDFs(MaxAbsScaler(input_matrix), input_matrix), C=0.001, dual=False, penalty=l2)\n",
      "0.7237426035502958\n"
     ]
    },
    {
     "name": "stderr",
     "output_type": "stream",
     "text": [
      "/Users/xiaoyifei/anaconda3/lib/python3.7/site-packages/sklearn/preprocessing/_function_transformer.py:97: FutureWarning: The default validate=True will be replaced by validate=False in 0.22.\n",
      "  \"validate=False in 0.22.\", FutureWarning)\n"
     ]
    }
   ],
   "source": [
    "digits = load_digits()\n",
    "\n",
    "tpot = TPOTClassifier(generations=5, population_size=20, verbosity=2)\n",
    "tpot.fit(trainX_2, trainy)\n",
    "print(tpot.score(testX_2, testy))\n",
    "tpot.export('tpot_pipeline.py')"
   ]
  },
  {
   "cell_type": "code",
   "execution_count": null,
   "metadata": {},
   "outputs": [
    {
     "name": "stderr",
     "output_type": "stream",
     "text": [
      "/Users/xiaoyifei/anaconda3/lib/python3.7/site-packages/sklearn/svm/base.py:193: FutureWarning: The default value of gamma will change from 'auto' to 'scale' in version 0.22 to account better for unscaled features. Set gamma explicitly to 'auto' or 'scale' to avoid this warning.\n",
      "  \"avoid this warning.\", FutureWarning)\n"
     ]
    }
   ],
   "source": [
    "from sklearn.svm import SVC\n",
    "svclassifier = SVC(kernel='poly', degree=4)\n",
    "svclassifier.fit(trainX_2, trainy)"
   ]
  },
  {
   "cell_type": "code",
   "execution_count": null,
   "metadata": {},
   "outputs": [],
   "source": [
    "y_pred = svclassifier.predict(testX)"
   ]
  },
  {
   "cell_type": "code",
   "execution_count": null,
   "metadata": {},
   "outputs": [],
   "source": []
  },
  {
   "cell_type": "code",
   "execution_count": null,
   "metadata": {},
   "outputs": [],
   "source": []
  },
  {
   "cell_type": "code",
   "execution_count": null,
   "metadata": {},
   "outputs": [],
   "source": []
  },
  {
   "cell_type": "code",
   "execution_count": null,
   "metadata": {},
   "outputs": [],
   "source": []
  },
  {
   "cell_type": "code",
   "execution_count": null,
   "metadata": {},
   "outputs": [],
   "source": []
  }
 ],
 "metadata": {
  "kernelspec": {
   "display_name": "Python 3",
   "language": "python",
   "name": "python3"
  },
  "language_info": {
   "codemirror_mode": {
    "name": "ipython",
    "version": 3
   },
   "file_extension": ".py",
   "mimetype": "text/x-python",
   "name": "python",
   "nbconvert_exporter": "python",
   "pygments_lexer": "ipython3",
   "version": "3.7.3"
  }
 },
 "nbformat": 4,
 "nbformat_minor": 2
}
